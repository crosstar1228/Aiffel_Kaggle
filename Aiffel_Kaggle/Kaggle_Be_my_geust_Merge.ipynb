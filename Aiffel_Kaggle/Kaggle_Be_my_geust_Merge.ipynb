{
 "cells": [
  {
   "cell_type": "markdown",
   "id": "e4d4ab0c",
   "metadata": {},
   "source": [
    "## System\n",
    "- Hot Pepper Gourmet(hpg): 이용자들이 식당을 찾고 온라인 예약할 수 있는 시스템\n",
    "- AirREGI / Restaurant Board(air): 예약 관리 및 계산 시스템\n",
    "\n",
    "## air_reserve.csv\n",
    "- air_store_id: 식당의 ID(air)\n",
    "- visit_datetime: 예약 시간(방문 예정 시간)\n",
    "- reserve_datetime: 예약 등록을 한 시간\n",
    "- reserve_visitors: 예정 방문자 수\n",
    "\n",
    "## hpg_reserve.csv\n",
    "- hpg_store_id: 식당의 ID(hpg)\n",
    "- visit_datetime: 예약 시간(방문 예정 시간)\n",
    "- reserve_datetime: 예약 등록을 한 시간\n",
    "- reserve_visitors: 예정 방문자 수\n",
    "\n",
    "## air_store_info.csv\n",
    "식당에서 air 시스템에 등록한 정보\n",
    "- air_store_id: 식당 ID(air)\n",
    "- air_genre_name: 식당의 종류(ex.이탈리안, 이자카야) \n",
    "- air_area_name: 지역\n",
    "- latitude: 경도 (해당 지역의 위도, 경도)\n",
    "- longitude: 위도\n",
    "\n",
    "## hpg_store_info.csv\n",
    "식당에서 hpg 시스템에 등록한 정보\n",
    "- air_store_id: 식당 ID(hpg)\n",
    "- air_genre_name: 식당의 종류(ex.이탈리안, 이자카야) \n",
    "- air_area_name: 지역\n",
    "- latitude: 경도 (해당 지역의 위도, 경도)\n",
    "- longitude: 위도\n",
    "\n",
    "## store_id_relation.csv\n",
    "두 시스템에서의 ID가 매칭되어 있다.\n",
    "- hpg_store_id\n",
    "- air_store_id\n",
    "\n",
    "## air_visit_data.csv\n",
    "방문 기록이 담겨있다.\n",
    "- air_store_id: 식당의 ID(air)\n",
    "- visit_date - 방문 날짜\n",
    "- visitors - 방문자의 수\n",
    "\n",
    "## date_info.csv\n",
    "- calendar_date: 날짜(년, 월, 일)\n",
    "- day_of_week: 요일\n",
    "- holiday_flg - 일본 기준 휴일 여부(1,0)\n",
    "\n",
    "## sample_submission.csv\n",
    "제출 양식\n",
    "- id: air 기준 식당 ID와 방문 날짜가 결합된 형태\n",
    "- visiotors: id에 해당하는 날짜, 식당에 방문할 손님의 수 예측\n"
   ]
  },
  {
   "cell_type": "markdown",
   "id": "18b4ecf3",
   "metadata": {},
   "source": [
    "# 데이터 불러오기 및 확인"
   ]
  },
  {
   "cell_type": "code",
   "execution_count": 7,
   "id": "96a12780",
   "metadata": {},
   "outputs": [],
   "source": [
    "import pandas as pd\n",
    "\n",
    "air_reserve = pd.read_csv(r\"C:\\Users\\crosstar\\OneDrive - 고려대학교\\Desktop\\recruit-restaurant-visitor-forecasting\\air_reserve.csv\")\n",
    "hpg_reserve = pd.read_csv(r\"C:\\Users\\crosstar\\OneDrive - 고려대학교\\Desktop\\recruit-restaurant-visitor-forecasting\\hpg_reserve.csv\")\n",
    "air_store_info = pd.read_csv(r\"C:\\Users\\crosstar\\OneDrive - 고려대학교\\Desktop\\recruit-restaurant-visitor-forecasting\\air_store_info.csv\")\n",
    "hpg_store_info = pd.read_csv(r\"C:\\Users\\crosstar\\OneDrive - 고려대학교\\Desktop\\recruit-restaurant-visitor-forecasting\\hpg_store_info.csv\")\n",
    "store_id_relation = pd.read_csv(r\"C:\\Users\\crosstar\\OneDrive - 고려대학교\\Desktop\\recruit-restaurant-visitor-forecasting\\store_id_relation.csv\")\n",
    "air_visit_data = pd.read_csv(r\"C:\\Users\\crosstar\\OneDrive - 고려대학교\\Desktop\\recruit-restaurant-visitor-forecasting\\air_visit_data.csv\")\n",
    "date_info = pd.read_csv(r\"C:\\Users\\crosstar\\OneDrive - 고려대학교\\Desktop\\recruit-restaurant-visitor-forecasting\\date_info.csv\")\n",
    "stores_to_pred = pd.read_csv(r\"C:\\Users\\crosstar\\OneDrive - 고려대학교\\Desktop\\recruit-restaurant-visitor-forecasting\\sample_submission.csv\")\n"
   ]
  },
  {
   "cell_type": "markdown",
   "id": "4d16ecee",
   "metadata": {},
   "source": [
    "## air_store_info"
   ]
  },
  {
   "cell_type": "code",
   "execution_count": 8,
   "id": "b3d4b59c",
   "metadata": {},
   "outputs": [
    {
     "data": {
      "text/plain": [
       "(829, 5)"
      ]
     },
     "execution_count": 8,
     "metadata": {},
     "output_type": "execute_result"
    }
   ],
   "source": [
    "air_store_info.shape"
   ]
  },
  {
   "cell_type": "code",
   "execution_count": 9,
   "id": "fdc924b1",
   "metadata": {
    "scrolled": true
   },
   "outputs": [
    {
     "data": {
      "text/html": [
       "<div>\n",
       "<style scoped>\n",
       "    .dataframe tbody tr th:only-of-type {\n",
       "        vertical-align: middle;\n",
       "    }\n",
       "\n",
       "    .dataframe tbody tr th {\n",
       "        vertical-align: top;\n",
       "    }\n",
       "\n",
       "    .dataframe thead th {\n",
       "        text-align: right;\n",
       "    }\n",
       "</style>\n",
       "<table border=\"1\" class=\"dataframe\">\n",
       "  <thead>\n",
       "    <tr style=\"text-align: right;\">\n",
       "      <th></th>\n",
       "      <th>air_store_id</th>\n",
       "      <th>air_genre_name</th>\n",
       "      <th>air_area_name</th>\n",
       "      <th>latitude</th>\n",
       "      <th>longitude</th>\n",
       "    </tr>\n",
       "  </thead>\n",
       "  <tbody>\n",
       "    <tr>\n",
       "      <th>0</th>\n",
       "      <td>air_0f0cdeee6c9bf3d7</td>\n",
       "      <td>Italian/French</td>\n",
       "      <td>Hyōgo-ken Kōbe-shi Kumoidōri</td>\n",
       "      <td>34.695124</td>\n",
       "      <td>135.197853</td>\n",
       "    </tr>\n",
       "    <tr>\n",
       "      <th>1</th>\n",
       "      <td>air_7cc17a324ae5c7dc</td>\n",
       "      <td>Italian/French</td>\n",
       "      <td>Hyōgo-ken Kōbe-shi Kumoidōri</td>\n",
       "      <td>34.695124</td>\n",
       "      <td>135.197853</td>\n",
       "    </tr>\n",
       "    <tr>\n",
       "      <th>2</th>\n",
       "      <td>air_fee8dcf4d619598e</td>\n",
       "      <td>Italian/French</td>\n",
       "      <td>Hyōgo-ken Kōbe-shi Kumoidōri</td>\n",
       "      <td>34.695124</td>\n",
       "      <td>135.197853</td>\n",
       "    </tr>\n",
       "    <tr>\n",
       "      <th>3</th>\n",
       "      <td>air_a17f0778617c76e2</td>\n",
       "      <td>Italian/French</td>\n",
       "      <td>Hyōgo-ken Kōbe-shi Kumoidōri</td>\n",
       "      <td>34.695124</td>\n",
       "      <td>135.197853</td>\n",
       "    </tr>\n",
       "    <tr>\n",
       "      <th>4</th>\n",
       "      <td>air_83db5aff8f50478e</td>\n",
       "      <td>Italian/French</td>\n",
       "      <td>Tōkyō-to Minato-ku Shibakōen</td>\n",
       "      <td>35.658068</td>\n",
       "      <td>139.751599</td>\n",
       "    </tr>\n",
       "  </tbody>\n",
       "</table>\n",
       "</div>"
      ],
      "text/plain": [
       "           air_store_id  air_genre_name                 air_area_name  \\\n",
       "0  air_0f0cdeee6c9bf3d7  Italian/French  Hyōgo-ken Kōbe-shi Kumoidōri   \n",
       "1  air_7cc17a324ae5c7dc  Italian/French  Hyōgo-ken Kōbe-shi Kumoidōri   \n",
       "2  air_fee8dcf4d619598e  Italian/French  Hyōgo-ken Kōbe-shi Kumoidōri   \n",
       "3  air_a17f0778617c76e2  Italian/French  Hyōgo-ken Kōbe-shi Kumoidōri   \n",
       "4  air_83db5aff8f50478e  Italian/French  Tōkyō-to Minato-ku Shibakōen   \n",
       "\n",
       "    latitude   longitude  \n",
       "0  34.695124  135.197853  \n",
       "1  34.695124  135.197853  \n",
       "2  34.695124  135.197853  \n",
       "3  34.695124  135.197853  \n",
       "4  35.658068  139.751599  "
      ]
     },
     "execution_count": 9,
     "metadata": {},
     "output_type": "execute_result"
    }
   ],
   "source": [
    "air_store_info.head()"
   ]
  },
  {
   "cell_type": "code",
   "execution_count": 10,
   "id": "47b539d8",
   "metadata": {},
   "outputs": [
    {
     "data": {
      "text/plain": [
       "0"
      ]
     },
     "execution_count": 10,
     "metadata": {},
     "output_type": "execute_result"
    }
   ],
   "source": [
    "# 중복값 확인\n",
    "air_store_info['air_store_id'].duplicated().sum()"
   ]
  },
  {
   "cell_type": "markdown",
   "id": "c568710a",
   "metadata": {},
   "source": [
    "## hpg_store_info"
   ]
  },
  {
   "cell_type": "code",
   "execution_count": 11,
   "id": "008b9457",
   "metadata": {},
   "outputs": [
    {
     "data": {
      "text/plain": [
       "(4690, 5)"
      ]
     },
     "execution_count": 11,
     "metadata": {},
     "output_type": "execute_result"
    }
   ],
   "source": [
    "hpg_store_info.shape"
   ]
  },
  {
   "cell_type": "code",
   "execution_count": 12,
   "id": "400ac9a6",
   "metadata": {},
   "outputs": [
    {
     "data": {
      "text/html": [
       "<div>\n",
       "<style scoped>\n",
       "    .dataframe tbody tr th:only-of-type {\n",
       "        vertical-align: middle;\n",
       "    }\n",
       "\n",
       "    .dataframe tbody tr th {\n",
       "        vertical-align: top;\n",
       "    }\n",
       "\n",
       "    .dataframe thead th {\n",
       "        text-align: right;\n",
       "    }\n",
       "</style>\n",
       "<table border=\"1\" class=\"dataframe\">\n",
       "  <thead>\n",
       "    <tr style=\"text-align: right;\">\n",
       "      <th></th>\n",
       "      <th>hpg_store_id</th>\n",
       "      <th>hpg_genre_name</th>\n",
       "      <th>hpg_area_name</th>\n",
       "      <th>latitude</th>\n",
       "      <th>longitude</th>\n",
       "    </tr>\n",
       "  </thead>\n",
       "  <tbody>\n",
       "    <tr>\n",
       "      <th>0</th>\n",
       "      <td>hpg_6622b62385aec8bf</td>\n",
       "      <td>Japanese style</td>\n",
       "      <td>Tōkyō-to Setagaya-ku Taishidō</td>\n",
       "      <td>35.643675</td>\n",
       "      <td>139.668221</td>\n",
       "    </tr>\n",
       "    <tr>\n",
       "      <th>1</th>\n",
       "      <td>hpg_e9e068dd49c5fa00</td>\n",
       "      <td>Japanese style</td>\n",
       "      <td>Tōkyō-to Setagaya-ku Taishidō</td>\n",
       "      <td>35.643675</td>\n",
       "      <td>139.668221</td>\n",
       "    </tr>\n",
       "    <tr>\n",
       "      <th>2</th>\n",
       "      <td>hpg_2976f7acb4b3a3bc</td>\n",
       "      <td>Japanese style</td>\n",
       "      <td>Tōkyō-to Setagaya-ku Taishidō</td>\n",
       "      <td>35.643675</td>\n",
       "      <td>139.668221</td>\n",
       "    </tr>\n",
       "    <tr>\n",
       "      <th>3</th>\n",
       "      <td>hpg_e51a522e098f024c</td>\n",
       "      <td>Japanese style</td>\n",
       "      <td>Tōkyō-to Setagaya-ku Taishidō</td>\n",
       "      <td>35.643675</td>\n",
       "      <td>139.668221</td>\n",
       "    </tr>\n",
       "    <tr>\n",
       "      <th>4</th>\n",
       "      <td>hpg_e3d0e1519894f275</td>\n",
       "      <td>Japanese style</td>\n",
       "      <td>Tōkyō-to Setagaya-ku Taishidō</td>\n",
       "      <td>35.643675</td>\n",
       "      <td>139.668221</td>\n",
       "    </tr>\n",
       "  </tbody>\n",
       "</table>\n",
       "</div>"
      ],
      "text/plain": [
       "           hpg_store_id  hpg_genre_name                  hpg_area_name  \\\n",
       "0  hpg_6622b62385aec8bf  Japanese style  Tōkyō-to Setagaya-ku Taishidō   \n",
       "1  hpg_e9e068dd49c5fa00  Japanese style  Tōkyō-to Setagaya-ku Taishidō   \n",
       "2  hpg_2976f7acb4b3a3bc  Japanese style  Tōkyō-to Setagaya-ku Taishidō   \n",
       "3  hpg_e51a522e098f024c  Japanese style  Tōkyō-to Setagaya-ku Taishidō   \n",
       "4  hpg_e3d0e1519894f275  Japanese style  Tōkyō-to Setagaya-ku Taishidō   \n",
       "\n",
       "    latitude   longitude  \n",
       "0  35.643675  139.668221  \n",
       "1  35.643675  139.668221  \n",
       "2  35.643675  139.668221  \n",
       "3  35.643675  139.668221  \n",
       "4  35.643675  139.668221  "
      ]
     },
     "execution_count": 12,
     "metadata": {},
     "output_type": "execute_result"
    }
   ],
   "source": [
    "hpg_store_info.head()"
   ]
  },
  {
   "cell_type": "code",
   "execution_count": 13,
   "id": "51d7d37a",
   "metadata": {},
   "outputs": [
    {
     "data": {
      "text/plain": [
       "0"
      ]
     },
     "execution_count": 13,
     "metadata": {},
     "output_type": "execute_result"
    }
   ],
   "source": [
    "# 중복값 확인\n",
    "hpg_store_info['hpg_store_id'].duplicated().sum()"
   ]
  },
  {
   "cell_type": "markdown",
   "id": "7921bea0",
   "metadata": {},
   "source": [
    "air 시스템에는 829개, hpg 시스템에는 4690개의 식당이 등록되어 있습니다."
   ]
  },
  {
   "cell_type": "markdown",
   "id": "37ef2693",
   "metadata": {},
   "source": [
    "## air_reserve"
   ]
  },
  {
   "cell_type": "code",
   "execution_count": 14,
   "id": "1ba861b9",
   "metadata": {},
   "outputs": [
    {
     "data": {
      "text/plain": [
       "(92378, 4)"
      ]
     },
     "execution_count": 14,
     "metadata": {},
     "output_type": "execute_result"
    }
   ],
   "source": [
    "air_reserve.shape"
   ]
  },
  {
   "cell_type": "code",
   "execution_count": 15,
   "id": "2c25f598",
   "metadata": {},
   "outputs": [
    {
     "data": {
      "text/html": [
       "<div>\n",
       "<style scoped>\n",
       "    .dataframe tbody tr th:only-of-type {\n",
       "        vertical-align: middle;\n",
       "    }\n",
       "\n",
       "    .dataframe tbody tr th {\n",
       "        vertical-align: top;\n",
       "    }\n",
       "\n",
       "    .dataframe thead th {\n",
       "        text-align: right;\n",
       "    }\n",
       "</style>\n",
       "<table border=\"1\" class=\"dataframe\">\n",
       "  <thead>\n",
       "    <tr style=\"text-align: right;\">\n",
       "      <th></th>\n",
       "      <th>air_store_id</th>\n",
       "      <th>visit_datetime</th>\n",
       "      <th>reserve_datetime</th>\n",
       "      <th>reserve_visitors</th>\n",
       "    </tr>\n",
       "  </thead>\n",
       "  <tbody>\n",
       "    <tr>\n",
       "      <th>0</th>\n",
       "      <td>air_877f79706adbfb06</td>\n",
       "      <td>2016-01-01 19:00:00</td>\n",
       "      <td>2016-01-01 16:00:00</td>\n",
       "      <td>1</td>\n",
       "    </tr>\n",
       "    <tr>\n",
       "      <th>1</th>\n",
       "      <td>air_db4b38ebe7a7ceff</td>\n",
       "      <td>2016-01-01 19:00:00</td>\n",
       "      <td>2016-01-01 19:00:00</td>\n",
       "      <td>3</td>\n",
       "    </tr>\n",
       "    <tr>\n",
       "      <th>2</th>\n",
       "      <td>air_db4b38ebe7a7ceff</td>\n",
       "      <td>2016-01-01 19:00:00</td>\n",
       "      <td>2016-01-01 19:00:00</td>\n",
       "      <td>6</td>\n",
       "    </tr>\n",
       "    <tr>\n",
       "      <th>3</th>\n",
       "      <td>air_877f79706adbfb06</td>\n",
       "      <td>2016-01-01 20:00:00</td>\n",
       "      <td>2016-01-01 16:00:00</td>\n",
       "      <td>2</td>\n",
       "    </tr>\n",
       "    <tr>\n",
       "      <th>4</th>\n",
       "      <td>air_db80363d35f10926</td>\n",
       "      <td>2016-01-01 20:00:00</td>\n",
       "      <td>2016-01-01 01:00:00</td>\n",
       "      <td>5</td>\n",
       "    </tr>\n",
       "  </tbody>\n",
       "</table>\n",
       "</div>"
      ],
      "text/plain": [
       "           air_store_id       visit_datetime     reserve_datetime  \\\n",
       "0  air_877f79706adbfb06  2016-01-01 19:00:00  2016-01-01 16:00:00   \n",
       "1  air_db4b38ebe7a7ceff  2016-01-01 19:00:00  2016-01-01 19:00:00   \n",
       "2  air_db4b38ebe7a7ceff  2016-01-01 19:00:00  2016-01-01 19:00:00   \n",
       "3  air_877f79706adbfb06  2016-01-01 20:00:00  2016-01-01 16:00:00   \n",
       "4  air_db80363d35f10926  2016-01-01 20:00:00  2016-01-01 01:00:00   \n",
       "\n",
       "   reserve_visitors  \n",
       "0                 1  \n",
       "1                 3  \n",
       "2                 6  \n",
       "3                 2  \n",
       "4                 5  "
      ]
     },
     "execution_count": 15,
     "metadata": {},
     "output_type": "execute_result"
    }
   ],
   "source": [
    "air_reserve.head()"
   ]
  },
  {
   "cell_type": "code",
   "execution_count": 16,
   "id": "e2d41e3f",
   "metadata": {},
   "outputs": [
    {
     "data": {
      "text/plain": [
       "2770"
      ]
     },
     "execution_count": 16,
     "metadata": {},
     "output_type": "execute_result"
    }
   ],
   "source": [
    "air_reserve.duplicated().sum()"
   ]
  },
  {
   "cell_type": "code",
   "execution_count": 17,
   "id": "e129482f",
   "metadata": {},
   "outputs": [
    {
     "data": {
      "text/html": [
       "<div>\n",
       "<style scoped>\n",
       "    .dataframe tbody tr th:only-of-type {\n",
       "        vertical-align: middle;\n",
       "    }\n",
       "\n",
       "    .dataframe tbody tr th {\n",
       "        vertical-align: top;\n",
       "    }\n",
       "\n",
       "    .dataframe thead th {\n",
       "        text-align: right;\n",
       "    }\n",
       "</style>\n",
       "<table border=\"1\" class=\"dataframe\">\n",
       "  <thead>\n",
       "    <tr style=\"text-align: right;\">\n",
       "      <th></th>\n",
       "      <th>air_store_id</th>\n",
       "      <th>visit_datetime</th>\n",
       "      <th>reserve_datetime</th>\n",
       "      <th>reserve_visitors</th>\n",
       "    </tr>\n",
       "  </thead>\n",
       "  <tbody>\n",
       "    <tr>\n",
       "      <th>47</th>\n",
       "      <td>air_789466e488705c93</td>\n",
       "      <td>2016-01-04 17:00:00</td>\n",
       "      <td>2016-01-04 17:00:00</td>\n",
       "      <td>2</td>\n",
       "    </tr>\n",
       "    <tr>\n",
       "      <th>48</th>\n",
       "      <td>air_789466e488705c93</td>\n",
       "      <td>2016-01-04 17:00:00</td>\n",
       "      <td>2016-01-04 17:00:00</td>\n",
       "      <td>2</td>\n",
       "    </tr>\n",
       "  </tbody>\n",
       "</table>\n",
       "</div>"
      ],
      "text/plain": [
       "            air_store_id       visit_datetime     reserve_datetime  \\\n",
       "47  air_789466e488705c93  2016-01-04 17:00:00  2016-01-04 17:00:00   \n",
       "48  air_789466e488705c93  2016-01-04 17:00:00  2016-01-04 17:00:00   \n",
       "\n",
       "    reserve_visitors  \n",
       "47                 2  \n",
       "48                 2  "
      ]
     },
     "execution_count": 17,
     "metadata": {},
     "output_type": "execute_result"
    }
   ],
   "source": [
    "air_reserve[(air_reserve['air_store_id'] == 'air_789466e488705c93') & (air_reserve['visit_datetime'] == '2016-01-04 17:00:00') ]"
   ]
  },
  {
   "cell_type": "code",
   "execution_count": 18,
   "id": "8fa602bc",
   "metadata": {},
   "outputs": [
    {
     "data": {
      "text/html": [
       "<div>\n",
       "<style scoped>\n",
       "    .dataframe tbody tr th:only-of-type {\n",
       "        vertical-align: middle;\n",
       "    }\n",
       "\n",
       "    .dataframe tbody tr th {\n",
       "        vertical-align: top;\n",
       "    }\n",
       "\n",
       "    .dataframe thead th {\n",
       "        text-align: right;\n",
       "    }\n",
       "</style>\n",
       "<table border=\"1\" class=\"dataframe\">\n",
       "  <thead>\n",
       "    <tr style=\"text-align: right;\">\n",
       "      <th></th>\n",
       "      <th>air_store_id</th>\n",
       "      <th>visit_datetime</th>\n",
       "      <th>reserve_datetime</th>\n",
       "      <th>reserve_visitors</th>\n",
       "    </tr>\n",
       "  </thead>\n",
       "  <tbody>\n",
       "    <tr>\n",
       "      <th>91</th>\n",
       "      <td>air_e55abd740f93ecc4</td>\n",
       "      <td>2016-01-05 20:00:00</td>\n",
       "      <td>2016-01-05 18:00:00</td>\n",
       "      <td>2</td>\n",
       "    </tr>\n",
       "    <tr>\n",
       "      <th>92</th>\n",
       "      <td>air_e55abd740f93ecc4</td>\n",
       "      <td>2016-01-05 20:00:00</td>\n",
       "      <td>2016-01-05 18:00:00</td>\n",
       "      <td>2</td>\n",
       "    </tr>\n",
       "  </tbody>\n",
       "</table>\n",
       "</div>"
      ],
      "text/plain": [
       "            air_store_id       visit_datetime     reserve_datetime  \\\n",
       "91  air_e55abd740f93ecc4  2016-01-05 20:00:00  2016-01-05 18:00:00   \n",
       "92  air_e55abd740f93ecc4  2016-01-05 20:00:00  2016-01-05 18:00:00   \n",
       "\n",
       "    reserve_visitors  \n",
       "91                 2  \n",
       "92                 2  "
      ]
     },
     "execution_count": 18,
     "metadata": {},
     "output_type": "execute_result"
    }
   ],
   "source": [
    "air_reserve[(air_reserve['air_store_id'] == 'air_e55abd740f93ecc4') & (air_reserve['visit_datetime'] == '2016-01-05 20:00:00') ]"
   ]
  },
  {
   "cell_type": "markdown",
   "id": "2bc6838a",
   "metadata": {},
   "source": [
    "중복값이 많아 확인해본 결과 완벽하게 동일한 예약 내용들이 있었습니다. 취소 후 재예약을 한 것이 아닌가 예상됩니다. **다만, 재예약의 경우 reserve_datetime은 변할 수 있는데 이 부분을 어떻게 확인해야 될지는 더 생각해봐야할 부분입니다.**"
   ]
  },
  {
   "cell_type": "code",
   "execution_count": 19,
   "id": "80b87e43",
   "metadata": {},
   "outputs": [
    {
     "data": {
      "text/plain": [
       "14609"
      ]
     },
     "execution_count": 19,
     "metadata": {},
     "output_type": "execute_result"
    }
   ],
   "source": [
    "air_reserve[['air_store_id','visit_datetime','reserve_visitors']].duplicated().sum()"
   ]
  },
  {
   "cell_type": "markdown",
   "id": "1e9dfeb9",
   "metadata": {},
   "source": [
    "**reserve_datetime을 제외한 부분의 중복값들이 확실히 많기는 하나 재예약인지 다른 예약인지 구분할 수는 없습니다.\n",
    "->solution 필요함**"
   ]
  },
  {
   "cell_type": "markdown",
   "id": "3e3a10f4",
   "metadata": {},
   "source": [
    "## hpg_reserve"
   ]
  },
  {
   "cell_type": "code",
   "execution_count": 20,
   "id": "f3b6506e",
   "metadata": {},
   "outputs": [
    {
     "data": {
      "text/plain": [
       "(2000320, 4)"
      ]
     },
     "execution_count": 20,
     "metadata": {},
     "output_type": "execute_result"
    }
   ],
   "source": [
    "hpg_reserve.shape"
   ]
  },
  {
   "cell_type": "code",
   "execution_count": 21,
   "id": "ec27e222",
   "metadata": {},
   "outputs": [
    {
     "data": {
      "text/html": [
       "<div>\n",
       "<style scoped>\n",
       "    .dataframe tbody tr th:only-of-type {\n",
       "        vertical-align: middle;\n",
       "    }\n",
       "\n",
       "    .dataframe tbody tr th {\n",
       "        vertical-align: top;\n",
       "    }\n",
       "\n",
       "    .dataframe thead th {\n",
       "        text-align: right;\n",
       "    }\n",
       "</style>\n",
       "<table border=\"1\" class=\"dataframe\">\n",
       "  <thead>\n",
       "    <tr style=\"text-align: right;\">\n",
       "      <th></th>\n",
       "      <th>hpg_store_id</th>\n",
       "      <th>visit_datetime</th>\n",
       "      <th>reserve_datetime</th>\n",
       "      <th>reserve_visitors</th>\n",
       "    </tr>\n",
       "  </thead>\n",
       "  <tbody>\n",
       "    <tr>\n",
       "      <th>0</th>\n",
       "      <td>hpg_c63f6f42e088e50f</td>\n",
       "      <td>2016-01-01 11:00:00</td>\n",
       "      <td>2016-01-01 09:00:00</td>\n",
       "      <td>1</td>\n",
       "    </tr>\n",
       "    <tr>\n",
       "      <th>1</th>\n",
       "      <td>hpg_dac72789163a3f47</td>\n",
       "      <td>2016-01-01 13:00:00</td>\n",
       "      <td>2016-01-01 06:00:00</td>\n",
       "      <td>3</td>\n",
       "    </tr>\n",
       "    <tr>\n",
       "      <th>2</th>\n",
       "      <td>hpg_c8e24dcf51ca1eb5</td>\n",
       "      <td>2016-01-01 16:00:00</td>\n",
       "      <td>2016-01-01 14:00:00</td>\n",
       "      <td>2</td>\n",
       "    </tr>\n",
       "    <tr>\n",
       "      <th>3</th>\n",
       "      <td>hpg_24bb207e5fd49d4a</td>\n",
       "      <td>2016-01-01 17:00:00</td>\n",
       "      <td>2016-01-01 11:00:00</td>\n",
       "      <td>5</td>\n",
       "    </tr>\n",
       "    <tr>\n",
       "      <th>4</th>\n",
       "      <td>hpg_25291c542ebb3bc2</td>\n",
       "      <td>2016-01-01 17:00:00</td>\n",
       "      <td>2016-01-01 03:00:00</td>\n",
       "      <td>13</td>\n",
       "    </tr>\n",
       "  </tbody>\n",
       "</table>\n",
       "</div>"
      ],
      "text/plain": [
       "           hpg_store_id       visit_datetime     reserve_datetime  \\\n",
       "0  hpg_c63f6f42e088e50f  2016-01-01 11:00:00  2016-01-01 09:00:00   \n",
       "1  hpg_dac72789163a3f47  2016-01-01 13:00:00  2016-01-01 06:00:00   \n",
       "2  hpg_c8e24dcf51ca1eb5  2016-01-01 16:00:00  2016-01-01 14:00:00   \n",
       "3  hpg_24bb207e5fd49d4a  2016-01-01 17:00:00  2016-01-01 11:00:00   \n",
       "4  hpg_25291c542ebb3bc2  2016-01-01 17:00:00  2016-01-01 03:00:00   \n",
       "\n",
       "   reserve_visitors  \n",
       "0                 1  \n",
       "1                 3  \n",
       "2                 2  \n",
       "3                 5  \n",
       "4                13  "
      ]
     },
     "execution_count": 21,
     "metadata": {},
     "output_type": "execute_result"
    }
   ],
   "source": [
    "hpg_reserve.head()"
   ]
  },
  {
   "cell_type": "code",
   "execution_count": 22,
   "id": "044259d3",
   "metadata": {},
   "outputs": [
    {
     "data": {
      "text/plain": [
       "16279"
      ]
     },
     "execution_count": 22,
     "metadata": {},
     "output_type": "execute_result"
    }
   ],
   "source": [
    "hpg_reserve.duplicated().sum()"
   ]
  },
  {
   "cell_type": "markdown",
   "id": "10a75dc3",
   "metadata": {},
   "source": [
    "hpg_reserve도 동일합니다."
   ]
  },
  {
   "cell_type": "markdown",
   "id": "b32bd1f7",
   "metadata": {},
   "source": [
    "## store_id_relation"
   ]
  },
  {
   "cell_type": "code",
   "execution_count": 23,
   "id": "5fedcfa8",
   "metadata": {},
   "outputs": [
    {
     "data": {
      "text/plain": [
       "(150, 2)"
      ]
     },
     "execution_count": 23,
     "metadata": {},
     "output_type": "execute_result"
    }
   ],
   "source": [
    "store_id_relation.shape"
   ]
  },
  {
   "cell_type": "code",
   "execution_count": 24,
   "id": "7976d03f",
   "metadata": {},
   "outputs": [
    {
     "data": {
      "text/html": [
       "<div>\n",
       "<style scoped>\n",
       "    .dataframe tbody tr th:only-of-type {\n",
       "        vertical-align: middle;\n",
       "    }\n",
       "\n",
       "    .dataframe tbody tr th {\n",
       "        vertical-align: top;\n",
       "    }\n",
       "\n",
       "    .dataframe thead th {\n",
       "        text-align: right;\n",
       "    }\n",
       "</style>\n",
       "<table border=\"1\" class=\"dataframe\">\n",
       "  <thead>\n",
       "    <tr style=\"text-align: right;\">\n",
       "      <th></th>\n",
       "      <th>air_store_id</th>\n",
       "      <th>hpg_store_id</th>\n",
       "    </tr>\n",
       "  </thead>\n",
       "  <tbody>\n",
       "    <tr>\n",
       "      <th>0</th>\n",
       "      <td>air_63b13c56b7201bd9</td>\n",
       "      <td>hpg_4bc649e72e2a239a</td>\n",
       "    </tr>\n",
       "    <tr>\n",
       "      <th>1</th>\n",
       "      <td>air_a24bf50c3e90d583</td>\n",
       "      <td>hpg_c34b496d0305a809</td>\n",
       "    </tr>\n",
       "    <tr>\n",
       "      <th>2</th>\n",
       "      <td>air_c7f78b4f3cba33ff</td>\n",
       "      <td>hpg_cd8ae0d9bbd58ff9</td>\n",
       "    </tr>\n",
       "    <tr>\n",
       "      <th>3</th>\n",
       "      <td>air_947eb2cae4f3e8f2</td>\n",
       "      <td>hpg_de24ea49dc25d6b8</td>\n",
       "    </tr>\n",
       "    <tr>\n",
       "      <th>4</th>\n",
       "      <td>air_965b2e0cf4119003</td>\n",
       "      <td>hpg_653238a84804d8e7</td>\n",
       "    </tr>\n",
       "  </tbody>\n",
       "</table>\n",
       "</div>"
      ],
      "text/plain": [
       "           air_store_id          hpg_store_id\n",
       "0  air_63b13c56b7201bd9  hpg_4bc649e72e2a239a\n",
       "1  air_a24bf50c3e90d583  hpg_c34b496d0305a809\n",
       "2  air_c7f78b4f3cba33ff  hpg_cd8ae0d9bbd58ff9\n",
       "3  air_947eb2cae4f3e8f2  hpg_de24ea49dc25d6b8\n",
       "4  air_965b2e0cf4119003  hpg_653238a84804d8e7"
      ]
     },
     "execution_count": 24,
     "metadata": {},
     "output_type": "execute_result"
    }
   ],
   "source": [
    "store_id_relation.head()"
   ]
  },
  {
   "cell_type": "code",
   "execution_count": 25,
   "id": "364f4978",
   "metadata": {},
   "outputs": [
    {
     "data": {
      "text/plain": [
       "0"
      ]
     },
     "execution_count": 25,
     "metadata": {},
     "output_type": "execute_result"
    }
   ],
   "source": [
    "store_id_relation.duplicated().sum()"
   ]
  },
  {
   "cell_type": "markdown",
   "id": "91b2bd18",
   "metadata": {},
   "source": [
    "## air_visit_data"
   ]
  },
  {
   "cell_type": "code",
   "execution_count": 26,
   "id": "953e8e4a",
   "metadata": {},
   "outputs": [
    {
     "data": {
      "text/plain": [
       "(252108, 3)"
      ]
     },
     "execution_count": 26,
     "metadata": {},
     "output_type": "execute_result"
    }
   ],
   "source": [
    "air_visit_data.shape"
   ]
  },
  {
   "cell_type": "code",
   "execution_count": 27,
   "id": "30d4ee18",
   "metadata": {},
   "outputs": [
    {
     "data": {
      "text/html": [
       "<div>\n",
       "<style scoped>\n",
       "    .dataframe tbody tr th:only-of-type {\n",
       "        vertical-align: middle;\n",
       "    }\n",
       "\n",
       "    .dataframe tbody tr th {\n",
       "        vertical-align: top;\n",
       "    }\n",
       "\n",
       "    .dataframe thead th {\n",
       "        text-align: right;\n",
       "    }\n",
       "</style>\n",
       "<table border=\"1\" class=\"dataframe\">\n",
       "  <thead>\n",
       "    <tr style=\"text-align: right;\">\n",
       "      <th></th>\n",
       "      <th>air_store_id</th>\n",
       "      <th>visit_date</th>\n",
       "      <th>visitors</th>\n",
       "    </tr>\n",
       "  </thead>\n",
       "  <tbody>\n",
       "    <tr>\n",
       "      <th>0</th>\n",
       "      <td>air_ba937bf13d40fb24</td>\n",
       "      <td>2016-01-13</td>\n",
       "      <td>25</td>\n",
       "    </tr>\n",
       "    <tr>\n",
       "      <th>1</th>\n",
       "      <td>air_ba937bf13d40fb24</td>\n",
       "      <td>2016-01-14</td>\n",
       "      <td>32</td>\n",
       "    </tr>\n",
       "    <tr>\n",
       "      <th>2</th>\n",
       "      <td>air_ba937bf13d40fb24</td>\n",
       "      <td>2016-01-15</td>\n",
       "      <td>29</td>\n",
       "    </tr>\n",
       "    <tr>\n",
       "      <th>3</th>\n",
       "      <td>air_ba937bf13d40fb24</td>\n",
       "      <td>2016-01-16</td>\n",
       "      <td>22</td>\n",
       "    </tr>\n",
       "    <tr>\n",
       "      <th>4</th>\n",
       "      <td>air_ba937bf13d40fb24</td>\n",
       "      <td>2016-01-18</td>\n",
       "      <td>6</td>\n",
       "    </tr>\n",
       "  </tbody>\n",
       "</table>\n",
       "</div>"
      ],
      "text/plain": [
       "           air_store_id  visit_date  visitors\n",
       "0  air_ba937bf13d40fb24  2016-01-13        25\n",
       "1  air_ba937bf13d40fb24  2016-01-14        32\n",
       "2  air_ba937bf13d40fb24  2016-01-15        29\n",
       "3  air_ba937bf13d40fb24  2016-01-16        22\n",
       "4  air_ba937bf13d40fb24  2016-01-18         6"
      ]
     },
     "execution_count": 27,
     "metadata": {},
     "output_type": "execute_result"
    }
   ],
   "source": [
    "air_visit_data.head()"
   ]
  },
  {
   "cell_type": "code",
   "execution_count": 28,
   "id": "3d917c41",
   "metadata": {},
   "outputs": [
    {
     "data": {
      "text/plain": [
       "0"
      ]
     },
     "execution_count": 28,
     "metadata": {},
     "output_type": "execute_result"
    }
   ],
   "source": [
    "air_visit_data.duplicated().sum()"
   ]
  },
  {
   "cell_type": "markdown",
   "id": "316b12d0",
   "metadata": {},
   "source": [
    "## date_info"
   ]
  },
  {
   "cell_type": "code",
   "execution_count": 30,
   "id": "a9c88c3f",
   "metadata": {},
   "outputs": [
    {
     "data": {
      "text/plain": [
       "(517, 3)"
      ]
     },
     "execution_count": 30,
     "metadata": {},
     "output_type": "execute_result"
    }
   ],
   "source": [
    "date_info.shape"
   ]
  },
  {
   "cell_type": "code",
   "execution_count": 31,
   "id": "98f97652",
   "metadata": {},
   "outputs": [
    {
     "data": {
      "text/html": [
       "<div>\n",
       "<style scoped>\n",
       "    .dataframe tbody tr th:only-of-type {\n",
       "        vertical-align: middle;\n",
       "    }\n",
       "\n",
       "    .dataframe tbody tr th {\n",
       "        vertical-align: top;\n",
       "    }\n",
       "\n",
       "    .dataframe thead th {\n",
       "        text-align: right;\n",
       "    }\n",
       "</style>\n",
       "<table border=\"1\" class=\"dataframe\">\n",
       "  <thead>\n",
       "    <tr style=\"text-align: right;\">\n",
       "      <th></th>\n",
       "      <th>calendar_date</th>\n",
       "      <th>day_of_week</th>\n",
       "      <th>holiday_flg</th>\n",
       "    </tr>\n",
       "  </thead>\n",
       "  <tbody>\n",
       "    <tr>\n",
       "      <th>0</th>\n",
       "      <td>2016-01-01</td>\n",
       "      <td>Friday</td>\n",
       "      <td>1</td>\n",
       "    </tr>\n",
       "    <tr>\n",
       "      <th>1</th>\n",
       "      <td>2016-01-02</td>\n",
       "      <td>Saturday</td>\n",
       "      <td>1</td>\n",
       "    </tr>\n",
       "    <tr>\n",
       "      <th>2</th>\n",
       "      <td>2016-01-03</td>\n",
       "      <td>Sunday</td>\n",
       "      <td>1</td>\n",
       "    </tr>\n",
       "    <tr>\n",
       "      <th>3</th>\n",
       "      <td>2016-01-04</td>\n",
       "      <td>Monday</td>\n",
       "      <td>0</td>\n",
       "    </tr>\n",
       "    <tr>\n",
       "      <th>4</th>\n",
       "      <td>2016-01-05</td>\n",
       "      <td>Tuesday</td>\n",
       "      <td>0</td>\n",
       "    </tr>\n",
       "  </tbody>\n",
       "</table>\n",
       "</div>"
      ],
      "text/plain": [
       "  calendar_date day_of_week  holiday_flg\n",
       "0    2016-01-01      Friday            1\n",
       "1    2016-01-02    Saturday            1\n",
       "2    2016-01-03      Sunday            1\n",
       "3    2016-01-04      Monday            0\n",
       "4    2016-01-05     Tuesday            0"
      ]
     },
     "execution_count": 31,
     "metadata": {},
     "output_type": "execute_result"
    }
   ],
   "source": [
    "date_info.head()"
   ]
  },
  {
   "cell_type": "markdown",
   "id": "ba2c3009",
   "metadata": {},
   "source": [
    "## stores to pred"
   ]
  },
  {
   "cell_type": "code",
   "execution_count": 32,
   "id": "bc8dbb96",
   "metadata": {},
   "outputs": [
    {
     "data": {
      "text/html": [
       "<div>\n",
       "<style scoped>\n",
       "    .dataframe tbody tr th:only-of-type {\n",
       "        vertical-align: middle;\n",
       "    }\n",
       "\n",
       "    .dataframe tbody tr th {\n",
       "        vertical-align: top;\n",
       "    }\n",
       "\n",
       "    .dataframe thead th {\n",
       "        text-align: right;\n",
       "    }\n",
       "</style>\n",
       "<table border=\"1\" class=\"dataframe\">\n",
       "  <thead>\n",
       "    <tr style=\"text-align: right;\">\n",
       "      <th></th>\n",
       "      <th>id</th>\n",
       "      <th>visitors</th>\n",
       "    </tr>\n",
       "  </thead>\n",
       "  <tbody>\n",
       "    <tr>\n",
       "      <th>0</th>\n",
       "      <td>air_00a91d42b08b08d9_2017-04-23</td>\n",
       "      <td>0</td>\n",
       "    </tr>\n",
       "    <tr>\n",
       "      <th>1</th>\n",
       "      <td>air_00a91d42b08b08d9_2017-04-24</td>\n",
       "      <td>0</td>\n",
       "    </tr>\n",
       "    <tr>\n",
       "      <th>2</th>\n",
       "      <td>air_00a91d42b08b08d9_2017-04-25</td>\n",
       "      <td>0</td>\n",
       "    </tr>\n",
       "    <tr>\n",
       "      <th>3</th>\n",
       "      <td>air_00a91d42b08b08d9_2017-04-26</td>\n",
       "      <td>0</td>\n",
       "    </tr>\n",
       "    <tr>\n",
       "      <th>4</th>\n",
       "      <td>air_00a91d42b08b08d9_2017-04-27</td>\n",
       "      <td>0</td>\n",
       "    </tr>\n",
       "  </tbody>\n",
       "</table>\n",
       "</div>"
      ],
      "text/plain": [
       "                                id  visitors\n",
       "0  air_00a91d42b08b08d9_2017-04-23         0\n",
       "1  air_00a91d42b08b08d9_2017-04-24         0\n",
       "2  air_00a91d42b08b08d9_2017-04-25         0\n",
       "3  air_00a91d42b08b08d9_2017-04-26         0\n",
       "4  air_00a91d42b08b08d9_2017-04-27         0"
      ]
     },
     "execution_count": 32,
     "metadata": {},
     "output_type": "execute_result"
    }
   ],
   "source": [
    "stores_to_pred.head()"
   ]
  },
  {
   "cell_type": "markdown",
   "id": "40964682",
   "metadata": {},
   "source": [
    "Split **id** -> **air_store_id** and **visit_date** "
   ]
  },
  {
   "cell_type": "code",
   "execution_count": 33,
   "id": "e94ffd7b",
   "metadata": {},
   "outputs": [
    {
     "data": {
      "text/html": [
       "<div>\n",
       "<style scoped>\n",
       "    .dataframe tbody tr th:only-of-type {\n",
       "        vertical-align: middle;\n",
       "    }\n",
       "\n",
       "    .dataframe tbody tr th {\n",
       "        vertical-align: top;\n",
       "    }\n",
       "\n",
       "    .dataframe thead th {\n",
       "        text-align: right;\n",
       "    }\n",
       "</style>\n",
       "<table border=\"1\" class=\"dataframe\">\n",
       "  <thead>\n",
       "    <tr style=\"text-align: right;\">\n",
       "      <th></th>\n",
       "      <th>id</th>\n",
       "      <th>air_store_id</th>\n",
       "      <th>visit_date</th>\n",
       "      <th>visitors</th>\n",
       "    </tr>\n",
       "  </thead>\n",
       "  <tbody>\n",
       "    <tr>\n",
       "      <th>0</th>\n",
       "      <td>air_00a91d42b08b08d9_2017-04-23</td>\n",
       "      <td>air_00a91d42b08b08d9</td>\n",
       "      <td>2017-04-23</td>\n",
       "      <td>0</td>\n",
       "    </tr>\n",
       "    <tr>\n",
       "      <th>1</th>\n",
       "      <td>air_00a91d42b08b08d9_2017-04-24</td>\n",
       "      <td>air_00a91d42b08b08d9</td>\n",
       "      <td>2017-04-24</td>\n",
       "      <td>0</td>\n",
       "    </tr>\n",
       "    <tr>\n",
       "      <th>2</th>\n",
       "      <td>air_00a91d42b08b08d9_2017-04-25</td>\n",
       "      <td>air_00a91d42b08b08d9</td>\n",
       "      <td>2017-04-25</td>\n",
       "      <td>0</td>\n",
       "    </tr>\n",
       "    <tr>\n",
       "      <th>3</th>\n",
       "      <td>air_00a91d42b08b08d9_2017-04-26</td>\n",
       "      <td>air_00a91d42b08b08d9</td>\n",
       "      <td>2017-04-26</td>\n",
       "      <td>0</td>\n",
       "    </tr>\n",
       "    <tr>\n",
       "      <th>4</th>\n",
       "      <td>air_00a91d42b08b08d9_2017-04-27</td>\n",
       "      <td>air_00a91d42b08b08d9</td>\n",
       "      <td>2017-04-27</td>\n",
       "      <td>0</td>\n",
       "    </tr>\n",
       "  </tbody>\n",
       "</table>\n",
       "</div>"
      ],
      "text/plain": [
       "                                id          air_store_id visit_date  visitors\n",
       "0  air_00a91d42b08b08d9_2017-04-23  air_00a91d42b08b08d9 2017-04-23         0\n",
       "1  air_00a91d42b08b08d9_2017-04-24  air_00a91d42b08b08d9 2017-04-24         0\n",
       "2  air_00a91d42b08b08d9_2017-04-25  air_00a91d42b08b08d9 2017-04-25         0\n",
       "3  air_00a91d42b08b08d9_2017-04-26  air_00a91d42b08b08d9 2017-04-26         0\n",
       "4  air_00a91d42b08b08d9_2017-04-27  air_00a91d42b08b08d9 2017-04-27         0"
      ]
     },
     "execution_count": 33,
     "metadata": {},
     "output_type": "execute_result"
    }
   ],
   "source": [
    "id_split = stores_to_pred['id'].str.split('_', expand=True)\n",
    "id_split.columns = ['source', 'store_id', 'visit_date']\n",
    "stores_to_pred = pd.concat([stores_to_pred, id_split], axis=1)\n",
    "stores_to_pred['air_store_id']=stores_to_pred['source'].str.cat(stores_to_pred['store_id'], sep='_')\n",
    "stores_to_pred = stores_to_pred[['id', 'air_store_id', 'visit_date', 'visitors']]\n",
    "stores_to_pred['visit_date'] = pd.to_datetime(stores_to_pred['visit_date'])\n",
    "\n",
    "stores_to_pred.head()"
   ]
  },
  {
   "cell_type": "code",
   "execution_count": 34,
   "id": "a06e3d6b",
   "metadata": {},
   "outputs": [
    {
     "data": {
      "text/plain": [
       "(32019, 4)"
      ]
     },
     "execution_count": 34,
     "metadata": {},
     "output_type": "execute_result"
    }
   ],
   "source": [
    "stores_to_pred.shape"
   ]
  },
  {
   "cell_type": "code",
   "execution_count": 35,
   "id": "a0522a66",
   "metadata": {},
   "outputs": [
    {
     "data": {
      "text/plain": [
       "821"
      ]
     },
     "execution_count": 35,
     "metadata": {},
     "output_type": "execute_result"
    }
   ],
   "source": [
    "stores_to_pred.air_store_id.nunique()"
   ]
  },
  {
   "cell_type": "code",
   "execution_count": 36,
   "id": "c7a2aed5",
   "metadata": {},
   "outputs": [
    {
     "data": {
      "text/plain": [
       "39"
      ]
     },
     "execution_count": 36,
     "metadata": {},
     "output_type": "execute_result"
    }
   ],
   "source": [
    "stores_to_pred.visit_date.nunique()"
   ]
  },
  {
   "cell_type": "markdown",
   "id": "e77b61ee",
   "metadata": {},
   "source": [
    "## Merge Full"
   ]
  },
  {
   "cell_type": "markdown",
   "id": "12a7ba58",
   "metadata": {},
   "source": [
    "air => **air_reserve + air_store_info** + store_id_relation\n",
    "\n",
    "hpg => **hpg_reserve + hpg_store_info** + store_id_relation"
   ]
  },
  {
   "cell_type": "code",
   "execution_count": 41,
   "id": "068016e3",
   "metadata": {},
   "outputs": [
    {
     "name": "stdout",
     "output_type": "stream",
     "text": [
      "there are  92378  restaurants with AIR and  871308  with HPG. 150  have both.\n"
     ]
    }
   ],
   "source": [
    "air = pd.merge(air_reserve, air_store_info, on='air_store_id')\n",
    "hpg = pd.merge(hpg_reserve, hpg_store_info, on='hpg_store_id')\n",
    "\n",
    "airrel = pd.merge(air, store_id_relation, how='left', on='air_store_id')\n",
    "hpgrel = pd.merge(hpg, store_id_relation, how='left', on='hpg_store_id')\n",
    "full = pd.merge(airrel, hpgrel, how='outer')\n",
    "\n",
    "print(\"\")\n",
    "print(\"there are \",len(air),\" restaurants with AIR and \",len(hpg),\" with HPG.\",len(store_id_relation),' have both.')"
   ]
  },
  {
   "cell_type": "code",
   "execution_count": 42,
   "id": "166b4b3d",
   "metadata": {},
   "outputs": [
    {
     "data": {
      "text/html": [
       "<div>\n",
       "<style scoped>\n",
       "    .dataframe tbody tr th:only-of-type {\n",
       "        vertical-align: middle;\n",
       "    }\n",
       "\n",
       "    .dataframe tbody tr th {\n",
       "        vertical-align: top;\n",
       "    }\n",
       "\n",
       "    .dataframe thead th {\n",
       "        text-align: right;\n",
       "    }\n",
       "</style>\n",
       "<table border=\"1\" class=\"dataframe\">\n",
       "  <thead>\n",
       "    <tr style=\"text-align: right;\">\n",
       "      <th></th>\n",
       "      <th>air_store_id</th>\n",
       "      <th>visit_datetime</th>\n",
       "      <th>reserve_datetime</th>\n",
       "      <th>reserve_visitors</th>\n",
       "      <th>air_genre_name</th>\n",
       "      <th>air_area_name</th>\n",
       "      <th>latitude</th>\n",
       "      <th>longitude</th>\n",
       "      <th>hpg_store_id</th>\n",
       "      <th>hpg_genre_name</th>\n",
       "      <th>hpg_area_name</th>\n",
       "    </tr>\n",
       "  </thead>\n",
       "  <tbody>\n",
       "    <tr>\n",
       "      <th>0</th>\n",
       "      <td>air_877f79706adbfb06</td>\n",
       "      <td>2016-01-01 19:00:00</td>\n",
       "      <td>2016-01-01 16:00:00</td>\n",
       "      <td>1</td>\n",
       "      <td>Japanese food</td>\n",
       "      <td>Tōkyō-to Minato-ku Shibakōen</td>\n",
       "      <td>35.658068</td>\n",
       "      <td>139.751599</td>\n",
       "      <td>NaN</td>\n",
       "      <td>NaN</td>\n",
       "      <td>NaN</td>\n",
       "    </tr>\n",
       "    <tr>\n",
       "      <th>1</th>\n",
       "      <td>air_877f79706adbfb06</td>\n",
       "      <td>2016-01-01 20:00:00</td>\n",
       "      <td>2016-01-01 16:00:00</td>\n",
       "      <td>2</td>\n",
       "      <td>Japanese food</td>\n",
       "      <td>Tōkyō-to Minato-ku Shibakōen</td>\n",
       "      <td>35.658068</td>\n",
       "      <td>139.751599</td>\n",
       "      <td>NaN</td>\n",
       "      <td>NaN</td>\n",
       "      <td>NaN</td>\n",
       "    </tr>\n",
       "    <tr>\n",
       "      <th>2</th>\n",
       "      <td>air_877f79706adbfb06</td>\n",
       "      <td>2016-01-02 18:00:00</td>\n",
       "      <td>2016-01-01 16:00:00</td>\n",
       "      <td>2</td>\n",
       "      <td>Japanese food</td>\n",
       "      <td>Tōkyō-to Minato-ku Shibakōen</td>\n",
       "      <td>35.658068</td>\n",
       "      <td>139.751599</td>\n",
       "      <td>NaN</td>\n",
       "      <td>NaN</td>\n",
       "      <td>NaN</td>\n",
       "    </tr>\n",
       "    <tr>\n",
       "      <th>3</th>\n",
       "      <td>air_877f79706adbfb06</td>\n",
       "      <td>2016-01-02 21:00:00</td>\n",
       "      <td>2016-01-01 16:00:00</td>\n",
       "      <td>2</td>\n",
       "      <td>Japanese food</td>\n",
       "      <td>Tōkyō-to Minato-ku Shibakōen</td>\n",
       "      <td>35.658068</td>\n",
       "      <td>139.751599</td>\n",
       "      <td>NaN</td>\n",
       "      <td>NaN</td>\n",
       "      <td>NaN</td>\n",
       "    </tr>\n",
       "    <tr>\n",
       "      <th>4</th>\n",
       "      <td>air_877f79706adbfb06</td>\n",
       "      <td>2016-01-08 21:00:00</td>\n",
       "      <td>2016-01-04 20:00:00</td>\n",
       "      <td>2</td>\n",
       "      <td>Japanese food</td>\n",
       "      <td>Tōkyō-to Minato-ku Shibakōen</td>\n",
       "      <td>35.658068</td>\n",
       "      <td>139.751599</td>\n",
       "      <td>NaN</td>\n",
       "      <td>NaN</td>\n",
       "      <td>NaN</td>\n",
       "    </tr>\n",
       "    <tr>\n",
       "      <th>...</th>\n",
       "      <td>...</td>\n",
       "      <td>...</td>\n",
       "      <td>...</td>\n",
       "      <td>...</td>\n",
       "      <td>...</td>\n",
       "      <td>...</td>\n",
       "      <td>...</td>\n",
       "      <td>...</td>\n",
       "      <td>...</td>\n",
       "      <td>...</td>\n",
       "      <td>...</td>\n",
       "    </tr>\n",
       "    <tr>\n",
       "      <th>963681</th>\n",
       "      <td>NaN</td>\n",
       "      <td>2017-04-24 18:00:00</td>\n",
       "      <td>2017-04-20 14:00:00</td>\n",
       "      <td>8</td>\n",
       "      <td>NaN</td>\n",
       "      <td>NaN</td>\n",
       "      <td>35.682504</td>\n",
       "      <td>139.773619</td>\n",
       "      <td>hpg_e106ddef2b137959</td>\n",
       "      <td>Japanese style</td>\n",
       "      <td>Tōkyō-to Chūō-ku None</td>\n",
       "    </tr>\n",
       "    <tr>\n",
       "      <th>963682</th>\n",
       "      <td>NaN</td>\n",
       "      <td>2017-04-24 19:00:00</td>\n",
       "      <td>2017-04-22 14:00:00</td>\n",
       "      <td>14</td>\n",
       "      <td>NaN</td>\n",
       "      <td>NaN</td>\n",
       "      <td>35.682504</td>\n",
       "      <td>139.773619</td>\n",
       "      <td>hpg_e106ddef2b137959</td>\n",
       "      <td>Japanese style</td>\n",
       "      <td>Tōkyō-to Chūō-ku None</td>\n",
       "    </tr>\n",
       "    <tr>\n",
       "      <th>963683</th>\n",
       "      <td>NaN</td>\n",
       "      <td>2017-04-24 19:00:00</td>\n",
       "      <td>2017-04-22 14:00:00</td>\n",
       "      <td>15</td>\n",
       "      <td>NaN</td>\n",
       "      <td>NaN</td>\n",
       "      <td>35.682504</td>\n",
       "      <td>139.773619</td>\n",
       "      <td>hpg_e106ddef2b137959</td>\n",
       "      <td>Japanese style</td>\n",
       "      <td>Tōkyō-to Chūō-ku None</td>\n",
       "    </tr>\n",
       "    <tr>\n",
       "      <th>963684</th>\n",
       "      <td>NaN</td>\n",
       "      <td>2017-04-24 19:00:00</td>\n",
       "      <td>2017-04-10 17:00:00</td>\n",
       "      <td>18</td>\n",
       "      <td>NaN</td>\n",
       "      <td>NaN</td>\n",
       "      <td>35.682504</td>\n",
       "      <td>139.773619</td>\n",
       "      <td>hpg_e106ddef2b137959</td>\n",
       "      <td>Japanese style</td>\n",
       "      <td>Tōkyō-to Chūō-ku None</td>\n",
       "    </tr>\n",
       "    <tr>\n",
       "      <th>963685</th>\n",
       "      <td>NaN</td>\n",
       "      <td>2017-04-28 18:00:00</td>\n",
       "      <td>2017-04-10 17:00:00</td>\n",
       "      <td>22</td>\n",
       "      <td>NaN</td>\n",
       "      <td>NaN</td>\n",
       "      <td>35.682504</td>\n",
       "      <td>139.773619</td>\n",
       "      <td>hpg_e106ddef2b137959</td>\n",
       "      <td>Japanese style</td>\n",
       "      <td>Tōkyō-to Chūō-ku None</td>\n",
       "    </tr>\n",
       "  </tbody>\n",
       "</table>\n",
       "<p>963686 rows × 11 columns</p>\n",
       "</div>"
      ],
      "text/plain": [
       "                air_store_id       visit_datetime     reserve_datetime  \\\n",
       "0       air_877f79706adbfb06  2016-01-01 19:00:00  2016-01-01 16:00:00   \n",
       "1       air_877f79706adbfb06  2016-01-01 20:00:00  2016-01-01 16:00:00   \n",
       "2       air_877f79706adbfb06  2016-01-02 18:00:00  2016-01-01 16:00:00   \n",
       "3       air_877f79706adbfb06  2016-01-02 21:00:00  2016-01-01 16:00:00   \n",
       "4       air_877f79706adbfb06  2016-01-08 21:00:00  2016-01-04 20:00:00   \n",
       "...                      ...                  ...                  ...   \n",
       "963681                   NaN  2017-04-24 18:00:00  2017-04-20 14:00:00   \n",
       "963682                   NaN  2017-04-24 19:00:00  2017-04-22 14:00:00   \n",
       "963683                   NaN  2017-04-24 19:00:00  2017-04-22 14:00:00   \n",
       "963684                   NaN  2017-04-24 19:00:00  2017-04-10 17:00:00   \n",
       "963685                   NaN  2017-04-28 18:00:00  2017-04-10 17:00:00   \n",
       "\n",
       "        reserve_visitors air_genre_name                 air_area_name  \\\n",
       "0                      1  Japanese food  Tōkyō-to Minato-ku Shibakōen   \n",
       "1                      2  Japanese food  Tōkyō-to Minato-ku Shibakōen   \n",
       "2                      2  Japanese food  Tōkyō-to Minato-ku Shibakōen   \n",
       "3                      2  Japanese food  Tōkyō-to Minato-ku Shibakōen   \n",
       "4                      2  Japanese food  Tōkyō-to Minato-ku Shibakōen   \n",
       "...                  ...            ...                           ...   \n",
       "963681                 8            NaN                           NaN   \n",
       "963682                14            NaN                           NaN   \n",
       "963683                15            NaN                           NaN   \n",
       "963684                18            NaN                           NaN   \n",
       "963685                22            NaN                           NaN   \n",
       "\n",
       "         latitude   longitude          hpg_store_id  hpg_genre_name  \\\n",
       "0       35.658068  139.751599                   NaN             NaN   \n",
       "1       35.658068  139.751599                   NaN             NaN   \n",
       "2       35.658068  139.751599                   NaN             NaN   \n",
       "3       35.658068  139.751599                   NaN             NaN   \n",
       "4       35.658068  139.751599                   NaN             NaN   \n",
       "...           ...         ...                   ...             ...   \n",
       "963681  35.682504  139.773619  hpg_e106ddef2b137959  Japanese style   \n",
       "963682  35.682504  139.773619  hpg_e106ddef2b137959  Japanese style   \n",
       "963683  35.682504  139.773619  hpg_e106ddef2b137959  Japanese style   \n",
       "963684  35.682504  139.773619  hpg_e106ddef2b137959  Japanese style   \n",
       "963685  35.682504  139.773619  hpg_e106ddef2b137959  Japanese style   \n",
       "\n",
       "                hpg_area_name  \n",
       "0                         NaN  \n",
       "1                         NaN  \n",
       "2                         NaN  \n",
       "3                         NaN  \n",
       "4                         NaN  \n",
       "...                       ...  \n",
       "963681  Tōkyō-to Chūō-ku None  \n",
       "963682  Tōkyō-to Chūō-ku None  \n",
       "963683  Tōkyō-to Chūō-ku None  \n",
       "963684  Tōkyō-to Chūō-ku None  \n",
       "963685  Tōkyō-to Chūō-ku None  \n",
       "\n",
       "[963686 rows x 11 columns]"
      ]
     },
     "execution_count": 42,
     "metadata": {},
     "output_type": "execute_result"
    }
   ],
   "source": [
    "full"
   ]
  },
  {
   "cell_type": "code",
   "execution_count": 65,
   "id": "6db0b402",
   "metadata": {},
   "outputs": [],
   "source": [
    "# datetime을 날짜와 시간으로 분리\n",
    "full['visit_date'] = full['visit_datetime'].map(lambda x: x.split()[0])\n",
    "full['visit_time'] = full['visit_datetime'].map(lambda x: x.split()[1])\n",
    "full.drop(columns=['visit_datetime'], inplace=True)"
   ]
  },
  {
   "cell_type": "code",
   "execution_count": 71,
   "id": "f9379cc9",
   "metadata": {},
   "outputs": [
    {
     "data": {
      "text/html": [
       "<div>\n",
       "<style scoped>\n",
       "    .dataframe tbody tr th:only-of-type {\n",
       "        vertical-align: middle;\n",
       "    }\n",
       "\n",
       "    .dataframe tbody tr th {\n",
       "        vertical-align: top;\n",
       "    }\n",
       "\n",
       "    .dataframe thead th {\n",
       "        text-align: right;\n",
       "    }\n",
       "</style>\n",
       "<table border=\"1\" class=\"dataframe\">\n",
       "  <thead>\n",
       "    <tr style=\"text-align: right;\">\n",
       "      <th></th>\n",
       "      <th>air_store_id</th>\n",
       "      <th>reserve_datetime</th>\n",
       "      <th>reserve_visitors</th>\n",
       "      <th>air_genre_name</th>\n",
       "      <th>air_area_name</th>\n",
       "      <th>latitude</th>\n",
       "      <th>longitude</th>\n",
       "      <th>hpg_store_id</th>\n",
       "      <th>hpg_genre_name</th>\n",
       "      <th>hpg_area_name</th>\n",
       "      <th>visit_date</th>\n",
       "      <th>visit_time</th>\n",
       "    </tr>\n",
       "  </thead>\n",
       "  <tbody>\n",
       "    <tr>\n",
       "      <th>0</th>\n",
       "      <td>air_877f79706adbfb06</td>\n",
       "      <td>2016-01-01 16:00:00</td>\n",
       "      <td>1</td>\n",
       "      <td>Japanese food</td>\n",
       "      <td>Tōkyō-to Minato-ku Shibakōen</td>\n",
       "      <td>35.658068</td>\n",
       "      <td>139.751599</td>\n",
       "      <td>NaN</td>\n",
       "      <td>NaN</td>\n",
       "      <td>NaN</td>\n",
       "      <td>2016-01-01</td>\n",
       "      <td>19:00:00</td>\n",
       "    </tr>\n",
       "    <tr>\n",
       "      <th>1</th>\n",
       "      <td>air_877f79706adbfb06</td>\n",
       "      <td>2016-01-01 16:00:00</td>\n",
       "      <td>2</td>\n",
       "      <td>Japanese food</td>\n",
       "      <td>Tōkyō-to Minato-ku Shibakōen</td>\n",
       "      <td>35.658068</td>\n",
       "      <td>139.751599</td>\n",
       "      <td>NaN</td>\n",
       "      <td>NaN</td>\n",
       "      <td>NaN</td>\n",
       "      <td>2016-01-01</td>\n",
       "      <td>20:00:00</td>\n",
       "    </tr>\n",
       "    <tr>\n",
       "      <th>2</th>\n",
       "      <td>air_877f79706adbfb06</td>\n",
       "      <td>2016-01-01 16:00:00</td>\n",
       "      <td>2</td>\n",
       "      <td>Japanese food</td>\n",
       "      <td>Tōkyō-to Minato-ku Shibakōen</td>\n",
       "      <td>35.658068</td>\n",
       "      <td>139.751599</td>\n",
       "      <td>NaN</td>\n",
       "      <td>NaN</td>\n",
       "      <td>NaN</td>\n",
       "      <td>2016-01-02</td>\n",
       "      <td>18:00:00</td>\n",
       "    </tr>\n",
       "    <tr>\n",
       "      <th>3</th>\n",
       "      <td>air_877f79706adbfb06</td>\n",
       "      <td>2016-01-01 16:00:00</td>\n",
       "      <td>2</td>\n",
       "      <td>Japanese food</td>\n",
       "      <td>Tōkyō-to Minato-ku Shibakōen</td>\n",
       "      <td>35.658068</td>\n",
       "      <td>139.751599</td>\n",
       "      <td>NaN</td>\n",
       "      <td>NaN</td>\n",
       "      <td>NaN</td>\n",
       "      <td>2016-01-02</td>\n",
       "      <td>21:00:00</td>\n",
       "    </tr>\n",
       "    <tr>\n",
       "      <th>4</th>\n",
       "      <td>air_877f79706adbfb06</td>\n",
       "      <td>2016-01-04 20:00:00</td>\n",
       "      <td>2</td>\n",
       "      <td>Japanese food</td>\n",
       "      <td>Tōkyō-to Minato-ku Shibakōen</td>\n",
       "      <td>35.658068</td>\n",
       "      <td>139.751599</td>\n",
       "      <td>NaN</td>\n",
       "      <td>NaN</td>\n",
       "      <td>NaN</td>\n",
       "      <td>2016-01-08</td>\n",
       "      <td>21:00:00</td>\n",
       "    </tr>\n",
       "    <tr>\n",
       "      <th>...</th>\n",
       "      <td>...</td>\n",
       "      <td>...</td>\n",
       "      <td>...</td>\n",
       "      <td>...</td>\n",
       "      <td>...</td>\n",
       "      <td>...</td>\n",
       "      <td>...</td>\n",
       "      <td>...</td>\n",
       "      <td>...</td>\n",
       "      <td>...</td>\n",
       "      <td>...</td>\n",
       "      <td>...</td>\n",
       "    </tr>\n",
       "    <tr>\n",
       "      <th>963681</th>\n",
       "      <td>NaN</td>\n",
       "      <td>2017-04-20 14:00:00</td>\n",
       "      <td>8</td>\n",
       "      <td>NaN</td>\n",
       "      <td>NaN</td>\n",
       "      <td>35.682504</td>\n",
       "      <td>139.773619</td>\n",
       "      <td>hpg_e106ddef2b137959</td>\n",
       "      <td>Japanese style</td>\n",
       "      <td>Tōkyō-to Chūō-ku None</td>\n",
       "      <td>2017-04-24</td>\n",
       "      <td>18:00:00</td>\n",
       "    </tr>\n",
       "    <tr>\n",
       "      <th>963682</th>\n",
       "      <td>NaN</td>\n",
       "      <td>2017-04-22 14:00:00</td>\n",
       "      <td>14</td>\n",
       "      <td>NaN</td>\n",
       "      <td>NaN</td>\n",
       "      <td>35.682504</td>\n",
       "      <td>139.773619</td>\n",
       "      <td>hpg_e106ddef2b137959</td>\n",
       "      <td>Japanese style</td>\n",
       "      <td>Tōkyō-to Chūō-ku None</td>\n",
       "      <td>2017-04-24</td>\n",
       "      <td>19:00:00</td>\n",
       "    </tr>\n",
       "    <tr>\n",
       "      <th>963683</th>\n",
       "      <td>NaN</td>\n",
       "      <td>2017-04-22 14:00:00</td>\n",
       "      <td>15</td>\n",
       "      <td>NaN</td>\n",
       "      <td>NaN</td>\n",
       "      <td>35.682504</td>\n",
       "      <td>139.773619</td>\n",
       "      <td>hpg_e106ddef2b137959</td>\n",
       "      <td>Japanese style</td>\n",
       "      <td>Tōkyō-to Chūō-ku None</td>\n",
       "      <td>2017-04-24</td>\n",
       "      <td>19:00:00</td>\n",
       "    </tr>\n",
       "    <tr>\n",
       "      <th>963684</th>\n",
       "      <td>NaN</td>\n",
       "      <td>2017-04-10 17:00:00</td>\n",
       "      <td>18</td>\n",
       "      <td>NaN</td>\n",
       "      <td>NaN</td>\n",
       "      <td>35.682504</td>\n",
       "      <td>139.773619</td>\n",
       "      <td>hpg_e106ddef2b137959</td>\n",
       "      <td>Japanese style</td>\n",
       "      <td>Tōkyō-to Chūō-ku None</td>\n",
       "      <td>2017-04-24</td>\n",
       "      <td>19:00:00</td>\n",
       "    </tr>\n",
       "    <tr>\n",
       "      <th>963685</th>\n",
       "      <td>NaN</td>\n",
       "      <td>2017-04-10 17:00:00</td>\n",
       "      <td>22</td>\n",
       "      <td>NaN</td>\n",
       "      <td>NaN</td>\n",
       "      <td>35.682504</td>\n",
       "      <td>139.773619</td>\n",
       "      <td>hpg_e106ddef2b137959</td>\n",
       "      <td>Japanese style</td>\n",
       "      <td>Tōkyō-to Chūō-ku None</td>\n",
       "      <td>2017-04-28</td>\n",
       "      <td>18:00:00</td>\n",
       "    </tr>\n",
       "  </tbody>\n",
       "</table>\n",
       "<p>963686 rows × 12 columns</p>\n",
       "</div>"
      ],
      "text/plain": [
       "                air_store_id     reserve_datetime  reserve_visitors  \\\n",
       "0       air_877f79706adbfb06  2016-01-01 16:00:00                 1   \n",
       "1       air_877f79706adbfb06  2016-01-01 16:00:00                 2   \n",
       "2       air_877f79706adbfb06  2016-01-01 16:00:00                 2   \n",
       "3       air_877f79706adbfb06  2016-01-01 16:00:00                 2   \n",
       "4       air_877f79706adbfb06  2016-01-04 20:00:00                 2   \n",
       "...                      ...                  ...               ...   \n",
       "963681                   NaN  2017-04-20 14:00:00                 8   \n",
       "963682                   NaN  2017-04-22 14:00:00                14   \n",
       "963683                   NaN  2017-04-22 14:00:00                15   \n",
       "963684                   NaN  2017-04-10 17:00:00                18   \n",
       "963685                   NaN  2017-04-10 17:00:00                22   \n",
       "\n",
       "       air_genre_name                 air_area_name   latitude   longitude  \\\n",
       "0       Japanese food  Tōkyō-to Minato-ku Shibakōen  35.658068  139.751599   \n",
       "1       Japanese food  Tōkyō-to Minato-ku Shibakōen  35.658068  139.751599   \n",
       "2       Japanese food  Tōkyō-to Minato-ku Shibakōen  35.658068  139.751599   \n",
       "3       Japanese food  Tōkyō-to Minato-ku Shibakōen  35.658068  139.751599   \n",
       "4       Japanese food  Tōkyō-to Minato-ku Shibakōen  35.658068  139.751599   \n",
       "...               ...                           ...        ...         ...   \n",
       "963681            NaN                           NaN  35.682504  139.773619   \n",
       "963682            NaN                           NaN  35.682504  139.773619   \n",
       "963683            NaN                           NaN  35.682504  139.773619   \n",
       "963684            NaN                           NaN  35.682504  139.773619   \n",
       "963685            NaN                           NaN  35.682504  139.773619   \n",
       "\n",
       "                hpg_store_id  hpg_genre_name          hpg_area_name  \\\n",
       "0                        NaN             NaN                    NaN   \n",
       "1                        NaN             NaN                    NaN   \n",
       "2                        NaN             NaN                    NaN   \n",
       "3                        NaN             NaN                    NaN   \n",
       "4                        NaN             NaN                    NaN   \n",
       "...                      ...             ...                    ...   \n",
       "963681  hpg_e106ddef2b137959  Japanese style  Tōkyō-to Chūō-ku None   \n",
       "963682  hpg_e106ddef2b137959  Japanese style  Tōkyō-to Chūō-ku None   \n",
       "963683  hpg_e106ddef2b137959  Japanese style  Tōkyō-to Chūō-ku None   \n",
       "963684  hpg_e106ddef2b137959  Japanese style  Tōkyō-to Chūō-ku None   \n",
       "963685  hpg_e106ddef2b137959  Japanese style  Tōkyō-to Chūō-ku None   \n",
       "\n",
       "        visit_date visit_time  \n",
       "0       2016-01-01   19:00:00  \n",
       "1       2016-01-01   20:00:00  \n",
       "2       2016-01-02   18:00:00  \n",
       "3       2016-01-02   21:00:00  \n",
       "4       2016-01-08   21:00:00  \n",
       "...            ...        ...  \n",
       "963681  2017-04-24   18:00:00  \n",
       "963682  2017-04-24   19:00:00  \n",
       "963683  2017-04-24   19:00:00  \n",
       "963684  2017-04-24   19:00:00  \n",
       "963685  2017-04-28   18:00:00  \n",
       "\n",
       "[963686 rows x 12 columns]"
      ]
     },
     "execution_count": 71,
     "metadata": {},
     "output_type": "execute_result"
    }
   ],
   "source": [
    "full"
   ]
  },
  {
   "cell_type": "code",
   "execution_count": 72,
   "id": "bdab5981",
   "metadata": {},
   "outputs": [],
   "source": [
    "# 요일과 휴일 여부가 담긴 date_info와 merge\n",
    "full_date = pd.merge(full, date_info, how='left', left_on='visit_date', right_on='calendar_date')\n",
    "full_date.drop(columns=['calendar_date'], inplace=True)"
   ]
  },
  {
   "cell_type": "code",
   "execution_count": 73,
   "id": "60475cb8",
   "metadata": {},
   "outputs": [
    {
     "data": {
      "text/html": [
       "<div>\n",
       "<style scoped>\n",
       "    .dataframe tbody tr th:only-of-type {\n",
       "        vertical-align: middle;\n",
       "    }\n",
       "\n",
       "    .dataframe tbody tr th {\n",
       "        vertical-align: top;\n",
       "    }\n",
       "\n",
       "    .dataframe thead th {\n",
       "        text-align: right;\n",
       "    }\n",
       "</style>\n",
       "<table border=\"1\" class=\"dataframe\">\n",
       "  <thead>\n",
       "    <tr style=\"text-align: right;\">\n",
       "      <th></th>\n",
       "      <th>air_store_id</th>\n",
       "      <th>reserve_datetime</th>\n",
       "      <th>reserve_visitors</th>\n",
       "      <th>air_genre_name</th>\n",
       "      <th>air_area_name</th>\n",
       "      <th>latitude</th>\n",
       "      <th>longitude</th>\n",
       "      <th>hpg_store_id</th>\n",
       "      <th>hpg_genre_name</th>\n",
       "      <th>hpg_area_name</th>\n",
       "      <th>visit_date</th>\n",
       "      <th>visit_time</th>\n",
       "      <th>day_of_week</th>\n",
       "      <th>holiday_flg</th>\n",
       "    </tr>\n",
       "  </thead>\n",
       "  <tbody>\n",
       "    <tr>\n",
       "      <th>0</th>\n",
       "      <td>air_877f79706adbfb06</td>\n",
       "      <td>2016-01-01 16:00:00</td>\n",
       "      <td>1</td>\n",
       "      <td>Japanese food</td>\n",
       "      <td>Tōkyō-to Minato-ku Shibakōen</td>\n",
       "      <td>35.658068</td>\n",
       "      <td>139.751599</td>\n",
       "      <td>NaN</td>\n",
       "      <td>NaN</td>\n",
       "      <td>NaN</td>\n",
       "      <td>2016-01-01</td>\n",
       "      <td>19:00:00</td>\n",
       "      <td>Friday</td>\n",
       "      <td>1</td>\n",
       "    </tr>\n",
       "    <tr>\n",
       "      <th>1</th>\n",
       "      <td>air_877f79706adbfb06</td>\n",
       "      <td>2016-01-01 16:00:00</td>\n",
       "      <td>2</td>\n",
       "      <td>Japanese food</td>\n",
       "      <td>Tōkyō-to Minato-ku Shibakōen</td>\n",
       "      <td>35.658068</td>\n",
       "      <td>139.751599</td>\n",
       "      <td>NaN</td>\n",
       "      <td>NaN</td>\n",
       "      <td>NaN</td>\n",
       "      <td>2016-01-01</td>\n",
       "      <td>20:00:00</td>\n",
       "      <td>Friday</td>\n",
       "      <td>1</td>\n",
       "    </tr>\n",
       "    <tr>\n",
       "      <th>2</th>\n",
       "      <td>air_877f79706adbfb06</td>\n",
       "      <td>2016-01-01 16:00:00</td>\n",
       "      <td>2</td>\n",
       "      <td>Japanese food</td>\n",
       "      <td>Tōkyō-to Minato-ku Shibakōen</td>\n",
       "      <td>35.658068</td>\n",
       "      <td>139.751599</td>\n",
       "      <td>NaN</td>\n",
       "      <td>NaN</td>\n",
       "      <td>NaN</td>\n",
       "      <td>2016-01-02</td>\n",
       "      <td>18:00:00</td>\n",
       "      <td>Saturday</td>\n",
       "      <td>1</td>\n",
       "    </tr>\n",
       "    <tr>\n",
       "      <th>3</th>\n",
       "      <td>air_877f79706adbfb06</td>\n",
       "      <td>2016-01-01 16:00:00</td>\n",
       "      <td>2</td>\n",
       "      <td>Japanese food</td>\n",
       "      <td>Tōkyō-to Minato-ku Shibakōen</td>\n",
       "      <td>35.658068</td>\n",
       "      <td>139.751599</td>\n",
       "      <td>NaN</td>\n",
       "      <td>NaN</td>\n",
       "      <td>NaN</td>\n",
       "      <td>2016-01-02</td>\n",
       "      <td>21:00:00</td>\n",
       "      <td>Saturday</td>\n",
       "      <td>1</td>\n",
       "    </tr>\n",
       "    <tr>\n",
       "      <th>4</th>\n",
       "      <td>air_877f79706adbfb06</td>\n",
       "      <td>2016-01-04 20:00:00</td>\n",
       "      <td>2</td>\n",
       "      <td>Japanese food</td>\n",
       "      <td>Tōkyō-to Minato-ku Shibakōen</td>\n",
       "      <td>35.658068</td>\n",
       "      <td>139.751599</td>\n",
       "      <td>NaN</td>\n",
       "      <td>NaN</td>\n",
       "      <td>NaN</td>\n",
       "      <td>2016-01-08</td>\n",
       "      <td>21:00:00</td>\n",
       "      <td>Friday</td>\n",
       "      <td>0</td>\n",
       "    </tr>\n",
       "    <tr>\n",
       "      <th>...</th>\n",
       "      <td>...</td>\n",
       "      <td>...</td>\n",
       "      <td>...</td>\n",
       "      <td>...</td>\n",
       "      <td>...</td>\n",
       "      <td>...</td>\n",
       "      <td>...</td>\n",
       "      <td>...</td>\n",
       "      <td>...</td>\n",
       "      <td>...</td>\n",
       "      <td>...</td>\n",
       "      <td>...</td>\n",
       "      <td>...</td>\n",
       "      <td>...</td>\n",
       "    </tr>\n",
       "    <tr>\n",
       "      <th>963681</th>\n",
       "      <td>NaN</td>\n",
       "      <td>2017-04-20 14:00:00</td>\n",
       "      <td>8</td>\n",
       "      <td>NaN</td>\n",
       "      <td>NaN</td>\n",
       "      <td>35.682504</td>\n",
       "      <td>139.773619</td>\n",
       "      <td>hpg_e106ddef2b137959</td>\n",
       "      <td>Japanese style</td>\n",
       "      <td>Tōkyō-to Chūō-ku None</td>\n",
       "      <td>2017-04-24</td>\n",
       "      <td>18:00:00</td>\n",
       "      <td>Monday</td>\n",
       "      <td>0</td>\n",
       "    </tr>\n",
       "    <tr>\n",
       "      <th>963682</th>\n",
       "      <td>NaN</td>\n",
       "      <td>2017-04-22 14:00:00</td>\n",
       "      <td>14</td>\n",
       "      <td>NaN</td>\n",
       "      <td>NaN</td>\n",
       "      <td>35.682504</td>\n",
       "      <td>139.773619</td>\n",
       "      <td>hpg_e106ddef2b137959</td>\n",
       "      <td>Japanese style</td>\n",
       "      <td>Tōkyō-to Chūō-ku None</td>\n",
       "      <td>2017-04-24</td>\n",
       "      <td>19:00:00</td>\n",
       "      <td>Monday</td>\n",
       "      <td>0</td>\n",
       "    </tr>\n",
       "    <tr>\n",
       "      <th>963683</th>\n",
       "      <td>NaN</td>\n",
       "      <td>2017-04-22 14:00:00</td>\n",
       "      <td>15</td>\n",
       "      <td>NaN</td>\n",
       "      <td>NaN</td>\n",
       "      <td>35.682504</td>\n",
       "      <td>139.773619</td>\n",
       "      <td>hpg_e106ddef2b137959</td>\n",
       "      <td>Japanese style</td>\n",
       "      <td>Tōkyō-to Chūō-ku None</td>\n",
       "      <td>2017-04-24</td>\n",
       "      <td>19:00:00</td>\n",
       "      <td>Monday</td>\n",
       "      <td>0</td>\n",
       "    </tr>\n",
       "    <tr>\n",
       "      <th>963684</th>\n",
       "      <td>NaN</td>\n",
       "      <td>2017-04-10 17:00:00</td>\n",
       "      <td>18</td>\n",
       "      <td>NaN</td>\n",
       "      <td>NaN</td>\n",
       "      <td>35.682504</td>\n",
       "      <td>139.773619</td>\n",
       "      <td>hpg_e106ddef2b137959</td>\n",
       "      <td>Japanese style</td>\n",
       "      <td>Tōkyō-to Chūō-ku None</td>\n",
       "      <td>2017-04-24</td>\n",
       "      <td>19:00:00</td>\n",
       "      <td>Monday</td>\n",
       "      <td>0</td>\n",
       "    </tr>\n",
       "    <tr>\n",
       "      <th>963685</th>\n",
       "      <td>NaN</td>\n",
       "      <td>2017-04-10 17:00:00</td>\n",
       "      <td>22</td>\n",
       "      <td>NaN</td>\n",
       "      <td>NaN</td>\n",
       "      <td>35.682504</td>\n",
       "      <td>139.773619</td>\n",
       "      <td>hpg_e106ddef2b137959</td>\n",
       "      <td>Japanese style</td>\n",
       "      <td>Tōkyō-to Chūō-ku None</td>\n",
       "      <td>2017-04-28</td>\n",
       "      <td>18:00:00</td>\n",
       "      <td>Friday</td>\n",
       "      <td>0</td>\n",
       "    </tr>\n",
       "  </tbody>\n",
       "</table>\n",
       "<p>963686 rows × 14 columns</p>\n",
       "</div>"
      ],
      "text/plain": [
       "                air_store_id     reserve_datetime  reserve_visitors  \\\n",
       "0       air_877f79706adbfb06  2016-01-01 16:00:00                 1   \n",
       "1       air_877f79706adbfb06  2016-01-01 16:00:00                 2   \n",
       "2       air_877f79706adbfb06  2016-01-01 16:00:00                 2   \n",
       "3       air_877f79706adbfb06  2016-01-01 16:00:00                 2   \n",
       "4       air_877f79706adbfb06  2016-01-04 20:00:00                 2   \n",
       "...                      ...                  ...               ...   \n",
       "963681                   NaN  2017-04-20 14:00:00                 8   \n",
       "963682                   NaN  2017-04-22 14:00:00                14   \n",
       "963683                   NaN  2017-04-22 14:00:00                15   \n",
       "963684                   NaN  2017-04-10 17:00:00                18   \n",
       "963685                   NaN  2017-04-10 17:00:00                22   \n",
       "\n",
       "       air_genre_name                 air_area_name   latitude   longitude  \\\n",
       "0       Japanese food  Tōkyō-to Minato-ku Shibakōen  35.658068  139.751599   \n",
       "1       Japanese food  Tōkyō-to Minato-ku Shibakōen  35.658068  139.751599   \n",
       "2       Japanese food  Tōkyō-to Minato-ku Shibakōen  35.658068  139.751599   \n",
       "3       Japanese food  Tōkyō-to Minato-ku Shibakōen  35.658068  139.751599   \n",
       "4       Japanese food  Tōkyō-to Minato-ku Shibakōen  35.658068  139.751599   \n",
       "...               ...                           ...        ...         ...   \n",
       "963681            NaN                           NaN  35.682504  139.773619   \n",
       "963682            NaN                           NaN  35.682504  139.773619   \n",
       "963683            NaN                           NaN  35.682504  139.773619   \n",
       "963684            NaN                           NaN  35.682504  139.773619   \n",
       "963685            NaN                           NaN  35.682504  139.773619   \n",
       "\n",
       "                hpg_store_id  hpg_genre_name          hpg_area_name  \\\n",
       "0                        NaN             NaN                    NaN   \n",
       "1                        NaN             NaN                    NaN   \n",
       "2                        NaN             NaN                    NaN   \n",
       "3                        NaN             NaN                    NaN   \n",
       "4                        NaN             NaN                    NaN   \n",
       "...                      ...             ...                    ...   \n",
       "963681  hpg_e106ddef2b137959  Japanese style  Tōkyō-to Chūō-ku None   \n",
       "963682  hpg_e106ddef2b137959  Japanese style  Tōkyō-to Chūō-ku None   \n",
       "963683  hpg_e106ddef2b137959  Japanese style  Tōkyō-to Chūō-ku None   \n",
       "963684  hpg_e106ddef2b137959  Japanese style  Tōkyō-to Chūō-ku None   \n",
       "963685  hpg_e106ddef2b137959  Japanese style  Tōkyō-to Chūō-ku None   \n",
       "\n",
       "        visit_date visit_time day_of_week  holiday_flg  \n",
       "0       2016-01-01   19:00:00      Friday            1  \n",
       "1       2016-01-01   20:00:00      Friday            1  \n",
       "2       2016-01-02   18:00:00    Saturday            1  \n",
       "3       2016-01-02   21:00:00    Saturday            1  \n",
       "4       2016-01-08   21:00:00      Friday            0  \n",
       "...            ...        ...         ...          ...  \n",
       "963681  2017-04-24   18:00:00      Monday            0  \n",
       "963682  2017-04-24   19:00:00      Monday            0  \n",
       "963683  2017-04-24   19:00:00      Monday            0  \n",
       "963684  2017-04-24   19:00:00      Monday            0  \n",
       "963685  2017-04-28   18:00:00      Friday            0  \n",
       "\n",
       "[963686 rows x 14 columns]"
      ]
     },
     "execution_count": 73,
     "metadata": {},
     "output_type": "execute_result"
    }
   ],
   "source": [
    "full_date"
   ]
  },
  {
   "cell_type": "code",
   "execution_count": null,
   "id": "2c65566f",
   "metadata": {},
   "outputs": [],
   "source": []
  }
 ],
 "metadata": {
  "kernelspec": {
   "display_name": "Python 3",
   "language": "python",
   "name": "python3"
  },
  "language_info": {
   "codemirror_mode": {
    "name": "ipython",
    "version": 3
   },
   "file_extension": ".py",
   "mimetype": "text/x-python",
   "name": "python",
   "nbconvert_exporter": "python",
   "pygments_lexer": "ipython3",
   "version": "3.8.8"
  }
 },
 "nbformat": 4,
 "nbformat_minor": 5
}
