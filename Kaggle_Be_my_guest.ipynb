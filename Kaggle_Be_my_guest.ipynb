{
 "cells": [
  {
   "cell_type": "markdown",
   "id": "e4d4ab0c",
   "metadata": {},
   "source": [
    "## System\n",
    "- Hot Pepper Gourmet(hpg): 이용자들이 식당을 찾고 온라인 예약할 수 있는 시스템\n",
    "- AirREGI / Restaurant Board(air): 예약 관리 및 계산 시스템\n",
    "\n",
    "## air_reserve.csv\n",
    "- air_store_id: 식당의 ID(air)\n",
    "- visit_datetime: 예약 시간(방문 예정 시간)\n",
    "- reserve_datetime: 예약 등록을 한 시간\n",
    "- reserve_visitors: 예정 방문자 수\n",
    "\n",
    "## hpg_reserve.csv\n",
    "- hpg_store_id: 식당의 ID(hpg)\n",
    "- visit_datetime: 예약 시간(방문 예정 시간)\n",
    "- reserve_datetime: 예약 등록을 한 시간\n",
    "- reserve_visitors: 예정 방문자 수\n",
    "\n",
    "## air_store_info.csv\n",
    "식당에서 air 시스템에 등록한 정보\n",
    "- air_store_id: 식당 ID(air)\n",
    "- air_genre_name: 식당의 종류(ex.이탈리안, 이자카야) \n",
    "- air_area_name: 지역\n",
    "- latitude: 경도 (해당 지역의 위도, 경도)\n",
    "- longitude: 위도\n",
    "\n",
    "## hpg_store_info.csv\n",
    "식당에서 hpg 시스템에 등록한 정보\n",
    "- air_store_id: 식당 ID(hpg)\n",
    "- air_genre_name: 식당의 종류(ex.이탈리안, 이자카야) \n",
    "- air_area_name: 지역\n",
    "- latitude: 경도 (해당 지역의 위도, 경도)\n",
    "- longitude: 위도\n",
    "\n",
    "## store_id_relation.csv\n",
    "두 시스템에서의 ID가 매칭되어 있다.\n",
    "- hpg_store_id\n",
    "- air_store_id\n",
    "\n",
    "## air_visit_data.csv\n",
    "방문 기록이 담겨있다.\n",
    "- air_store_id: 식당의 ID(air)\n",
    "- visit_date - 방문 날짜\n",
    "- visitors - 방문자의 수\n",
    "\n",
    "## date_info.csv\n",
    "- calendar_date: 날짜(년, 월, 일)\n",
    "- day_of_week: 요일\n",
    "- holiday_flg - 일본 기준 휴일 여부(1,0)\n",
    "\n",
    "## sample_submission.csv\n",
    "제출 양식\n",
    "- id: air 기준 식당 ID와 방문 날짜가 결합된 형태\n",
    "- visiotors: id에 해당하는 날짜, 식당에 방문할 손님의 수 예측\n"
   ]
  },
  {
   "cell_type": "markdown",
   "id": "215da367",
   "metadata": {},
   "source": [
    "# 데이터 불러오기 및 확인"
   ]
  },
  {
   "cell_type": "code",
   "execution_count": 68,
   "id": "96a12780",
   "metadata": {},
   "outputs": [],
   "source": [
    "import pandas as pd\n",
    "\n",
    "air_reserve = pd.read_csv(\"air_reserve.csv\")\n",
    "hpg_reserve = pd.read_csv(\"hpg_reserve.csv\")\n",
    "air_store_info = pd.read_csv(\"air_store_info.csv\")\n",
    "hpg_store_info = pd.read_csv(\"hpg_store_info.csv\")\n",
    "store_id_relation = pd.read_csv(\"store_id_relation.csv\")\n",
    "air_visit_data = pd.read_csv(\"air_visit_data.csv\")\n",
    "date_info = pd.read_csv(\"date_info.csv\")\n",
    "stores_to_pred = pd.read_csv(\"sample_submission.csv\")\n"
   ]
  },
  {
   "cell_type": "markdown",
   "id": "196fc54a",
   "metadata": {},
   "source": [
    "## air_store_info"
   ]
  },
  {
   "cell_type": "code",
   "execution_count": 19,
   "id": "4f89d941",
   "metadata": {},
   "outputs": [
    {
     "data": {
      "text/plain": [
       "(829, 5)"
      ]
     },
     "execution_count": 19,
     "metadata": {},
     "output_type": "execute_result"
    }
   ],
   "source": [
    "air_store_info.shape"
   ]
  },
  {
   "cell_type": "code",
   "execution_count": 18,
   "id": "678b533a",
   "metadata": {
    "scrolled": true
   },
   "outputs": [
    {
     "data": {
      "text/html": [
       "<div>\n",
       "<style scoped>\n",
       "    .dataframe tbody tr th:only-of-type {\n",
       "        vertical-align: middle;\n",
       "    }\n",
       "\n",
       "    .dataframe tbody tr th {\n",
       "        vertical-align: top;\n",
       "    }\n",
       "\n",
       "    .dataframe thead th {\n",
       "        text-align: right;\n",
       "    }\n",
       "</style>\n",
       "<table border=\"1\" class=\"dataframe\">\n",
       "  <thead>\n",
       "    <tr style=\"text-align: right;\">\n",
       "      <th></th>\n",
       "      <th>air_store_id</th>\n",
       "      <th>air_genre_name</th>\n",
       "      <th>air_area_name</th>\n",
       "      <th>latitude</th>\n",
       "      <th>longitude</th>\n",
       "    </tr>\n",
       "  </thead>\n",
       "  <tbody>\n",
       "    <tr>\n",
       "      <th>0</th>\n",
       "      <td>air_0f0cdeee6c9bf3d7</td>\n",
       "      <td>Italian/French</td>\n",
       "      <td>Hyōgo-ken Kōbe-shi Kumoidōri</td>\n",
       "      <td>34.695124</td>\n",
       "      <td>135.197853</td>\n",
       "    </tr>\n",
       "    <tr>\n",
       "      <th>1</th>\n",
       "      <td>air_7cc17a324ae5c7dc</td>\n",
       "      <td>Italian/French</td>\n",
       "      <td>Hyōgo-ken Kōbe-shi Kumoidōri</td>\n",
       "      <td>34.695124</td>\n",
       "      <td>135.197853</td>\n",
       "    </tr>\n",
       "    <tr>\n",
       "      <th>2</th>\n",
       "      <td>air_fee8dcf4d619598e</td>\n",
       "      <td>Italian/French</td>\n",
       "      <td>Hyōgo-ken Kōbe-shi Kumoidōri</td>\n",
       "      <td>34.695124</td>\n",
       "      <td>135.197853</td>\n",
       "    </tr>\n",
       "    <tr>\n",
       "      <th>3</th>\n",
       "      <td>air_a17f0778617c76e2</td>\n",
       "      <td>Italian/French</td>\n",
       "      <td>Hyōgo-ken Kōbe-shi Kumoidōri</td>\n",
       "      <td>34.695124</td>\n",
       "      <td>135.197853</td>\n",
       "    </tr>\n",
       "    <tr>\n",
       "      <th>4</th>\n",
       "      <td>air_83db5aff8f50478e</td>\n",
       "      <td>Italian/French</td>\n",
       "      <td>Tōkyō-to Minato-ku Shibakōen</td>\n",
       "      <td>35.658068</td>\n",
       "      <td>139.751599</td>\n",
       "    </tr>\n",
       "  </tbody>\n",
       "</table>\n",
       "</div>"
      ],
      "text/plain": [
       "           air_store_id  air_genre_name                 air_area_name  \\\n",
       "0  air_0f0cdeee6c9bf3d7  Italian/French  Hyōgo-ken Kōbe-shi Kumoidōri   \n",
       "1  air_7cc17a324ae5c7dc  Italian/French  Hyōgo-ken Kōbe-shi Kumoidōri   \n",
       "2  air_fee8dcf4d619598e  Italian/French  Hyōgo-ken Kōbe-shi Kumoidōri   \n",
       "3  air_a17f0778617c76e2  Italian/French  Hyōgo-ken Kōbe-shi Kumoidōri   \n",
       "4  air_83db5aff8f50478e  Italian/French  Tōkyō-to Minato-ku Shibakōen   \n",
       "\n",
       "    latitude   longitude  \n",
       "0  34.695124  135.197853  \n",
       "1  34.695124  135.197853  \n",
       "2  34.695124  135.197853  \n",
       "3  34.695124  135.197853  \n",
       "4  35.658068  139.751599  "
      ]
     },
     "execution_count": 18,
     "metadata": {},
     "output_type": "execute_result"
    }
   ],
   "source": [
    "air_store_info.head()"
   ]
  },
  {
   "cell_type": "code",
   "execution_count": 28,
   "id": "151bc634",
   "metadata": {},
   "outputs": [
    {
     "data": {
      "text/plain": [
       "0"
      ]
     },
     "execution_count": 28,
     "metadata": {},
     "output_type": "execute_result"
    }
   ],
   "source": [
    "# 중복값 확인\n",
    "air_store_info['air_store_id'].duplicated().sum()"
   ]
  },
  {
   "cell_type": "markdown",
   "id": "f16f1e59",
   "metadata": {},
   "source": [
    "## hpg_store_info"
   ]
  },
  {
   "cell_type": "code",
   "execution_count": 20,
   "id": "4fc475ea",
   "metadata": {},
   "outputs": [
    {
     "data": {
      "text/plain": [
       "(4690, 5)"
      ]
     },
     "execution_count": 20,
     "metadata": {},
     "output_type": "execute_result"
    }
   ],
   "source": [
    "hpg_store_info.shape"
   ]
  },
  {
   "cell_type": "code",
   "execution_count": 9,
   "id": "ee71870d",
   "metadata": {},
   "outputs": [
    {
     "data": {
      "text/html": [
       "<div>\n",
       "<style scoped>\n",
       "    .dataframe tbody tr th:only-of-type {\n",
       "        vertical-align: middle;\n",
       "    }\n",
       "\n",
       "    .dataframe tbody tr th {\n",
       "        vertical-align: top;\n",
       "    }\n",
       "\n",
       "    .dataframe thead th {\n",
       "        text-align: right;\n",
       "    }\n",
       "</style>\n",
       "<table border=\"1\" class=\"dataframe\">\n",
       "  <thead>\n",
       "    <tr style=\"text-align: right;\">\n",
       "      <th></th>\n",
       "      <th>hpg_store_id</th>\n",
       "      <th>hpg_genre_name</th>\n",
       "      <th>hpg_area_name</th>\n",
       "      <th>latitude</th>\n",
       "      <th>longitude</th>\n",
       "    </tr>\n",
       "  </thead>\n",
       "  <tbody>\n",
       "    <tr>\n",
       "      <th>0</th>\n",
       "      <td>hpg_6622b62385aec8bf</td>\n",
       "      <td>Japanese style</td>\n",
       "      <td>Tōkyō-to Setagaya-ku Taishidō</td>\n",
       "      <td>35.643675</td>\n",
       "      <td>139.668221</td>\n",
       "    </tr>\n",
       "    <tr>\n",
       "      <th>1</th>\n",
       "      <td>hpg_e9e068dd49c5fa00</td>\n",
       "      <td>Japanese style</td>\n",
       "      <td>Tōkyō-to Setagaya-ku Taishidō</td>\n",
       "      <td>35.643675</td>\n",
       "      <td>139.668221</td>\n",
       "    </tr>\n",
       "    <tr>\n",
       "      <th>2</th>\n",
       "      <td>hpg_2976f7acb4b3a3bc</td>\n",
       "      <td>Japanese style</td>\n",
       "      <td>Tōkyō-to Setagaya-ku Taishidō</td>\n",
       "      <td>35.643675</td>\n",
       "      <td>139.668221</td>\n",
       "    </tr>\n",
       "    <tr>\n",
       "      <th>3</th>\n",
       "      <td>hpg_e51a522e098f024c</td>\n",
       "      <td>Japanese style</td>\n",
       "      <td>Tōkyō-to Setagaya-ku Taishidō</td>\n",
       "      <td>35.643675</td>\n",
       "      <td>139.668221</td>\n",
       "    </tr>\n",
       "    <tr>\n",
       "      <th>4</th>\n",
       "      <td>hpg_e3d0e1519894f275</td>\n",
       "      <td>Japanese style</td>\n",
       "      <td>Tōkyō-to Setagaya-ku Taishidō</td>\n",
       "      <td>35.643675</td>\n",
       "      <td>139.668221</td>\n",
       "    </tr>\n",
       "  </tbody>\n",
       "</table>\n",
       "</div>"
      ],
      "text/plain": [
       "           hpg_store_id  hpg_genre_name                  hpg_area_name  \\\n",
       "0  hpg_6622b62385aec8bf  Japanese style  Tōkyō-to Setagaya-ku Taishidō   \n",
       "1  hpg_e9e068dd49c5fa00  Japanese style  Tōkyō-to Setagaya-ku Taishidō   \n",
       "2  hpg_2976f7acb4b3a3bc  Japanese style  Tōkyō-to Setagaya-ku Taishidō   \n",
       "3  hpg_e51a522e098f024c  Japanese style  Tōkyō-to Setagaya-ku Taishidō   \n",
       "4  hpg_e3d0e1519894f275  Japanese style  Tōkyō-to Setagaya-ku Taishidō   \n",
       "\n",
       "    latitude   longitude  \n",
       "0  35.643675  139.668221  \n",
       "1  35.643675  139.668221  \n",
       "2  35.643675  139.668221  \n",
       "3  35.643675  139.668221  \n",
       "4  35.643675  139.668221  "
      ]
     },
     "execution_count": 9,
     "metadata": {},
     "output_type": "execute_result"
    }
   ],
   "source": [
    "hpg_store_info.head()"
   ]
  },
  {
   "cell_type": "code",
   "execution_count": 30,
   "id": "39e64ed7",
   "metadata": {},
   "outputs": [
    {
     "data": {
      "text/plain": [
       "0"
      ]
     },
     "execution_count": 30,
     "metadata": {},
     "output_type": "execute_result"
    }
   ],
   "source": [
    "# 중복값 확인\n",
    "hpg_store_info['hpg_store_id'].duplicated().sum()"
   ]
  },
  {
   "cell_type": "markdown",
   "id": "b80bc4e5",
   "metadata": {},
   "source": [
    "air 시스템에는 829개, hpg 시스템에는 4690개의 식당이 등록되어 있습니다."
   ]
  },
  {
   "cell_type": "markdown",
   "id": "e9524456",
   "metadata": {},
   "source": [
    "## air_reserve"
   ]
  },
  {
   "cell_type": "code",
   "execution_count": 31,
   "id": "a155c595",
   "metadata": {},
   "outputs": [
    {
     "data": {
      "text/plain": [
       "(92378, 4)"
      ]
     },
     "execution_count": 31,
     "metadata": {},
     "output_type": "execute_result"
    }
   ],
   "source": [
    "air_reserve.shape"
   ]
  },
  {
   "cell_type": "code",
   "execution_count": 52,
   "id": "cf53f5ae",
   "metadata": {},
   "outputs": [
    {
     "data": {
      "text/html": [
       "<div>\n",
       "<style scoped>\n",
       "    .dataframe tbody tr th:only-of-type {\n",
       "        vertical-align: middle;\n",
       "    }\n",
       "\n",
       "    .dataframe tbody tr th {\n",
       "        vertical-align: top;\n",
       "    }\n",
       "\n",
       "    .dataframe thead th {\n",
       "        text-align: right;\n",
       "    }\n",
       "</style>\n",
       "<table border=\"1\" class=\"dataframe\">\n",
       "  <thead>\n",
       "    <tr style=\"text-align: right;\">\n",
       "      <th></th>\n",
       "      <th>air_store_id</th>\n",
       "      <th>visit_datetime</th>\n",
       "      <th>reserve_datetime</th>\n",
       "      <th>reserve_visitors</th>\n",
       "    </tr>\n",
       "  </thead>\n",
       "  <tbody>\n",
       "    <tr>\n",
       "      <th>0</th>\n",
       "      <td>air_877f79706adbfb06</td>\n",
       "      <td>2016-01-01 19:00:00</td>\n",
       "      <td>2016-01-01 16:00:00</td>\n",
       "      <td>1</td>\n",
       "    </tr>\n",
       "    <tr>\n",
       "      <th>1</th>\n",
       "      <td>air_db4b38ebe7a7ceff</td>\n",
       "      <td>2016-01-01 19:00:00</td>\n",
       "      <td>2016-01-01 19:00:00</td>\n",
       "      <td>3</td>\n",
       "    </tr>\n",
       "    <tr>\n",
       "      <th>2</th>\n",
       "      <td>air_db4b38ebe7a7ceff</td>\n",
       "      <td>2016-01-01 19:00:00</td>\n",
       "      <td>2016-01-01 19:00:00</td>\n",
       "      <td>6</td>\n",
       "    </tr>\n",
       "    <tr>\n",
       "      <th>3</th>\n",
       "      <td>air_877f79706adbfb06</td>\n",
       "      <td>2016-01-01 20:00:00</td>\n",
       "      <td>2016-01-01 16:00:00</td>\n",
       "      <td>2</td>\n",
       "    </tr>\n",
       "    <tr>\n",
       "      <th>4</th>\n",
       "      <td>air_db80363d35f10926</td>\n",
       "      <td>2016-01-01 20:00:00</td>\n",
       "      <td>2016-01-01 01:00:00</td>\n",
       "      <td>5</td>\n",
       "    </tr>\n",
       "  </tbody>\n",
       "</table>\n",
       "</div>"
      ],
      "text/plain": [
       "           air_store_id       visit_datetime     reserve_datetime  \\\n",
       "0  air_877f79706adbfb06  2016-01-01 19:00:00  2016-01-01 16:00:00   \n",
       "1  air_db4b38ebe7a7ceff  2016-01-01 19:00:00  2016-01-01 19:00:00   \n",
       "2  air_db4b38ebe7a7ceff  2016-01-01 19:00:00  2016-01-01 19:00:00   \n",
       "3  air_877f79706adbfb06  2016-01-01 20:00:00  2016-01-01 16:00:00   \n",
       "4  air_db80363d35f10926  2016-01-01 20:00:00  2016-01-01 01:00:00   \n",
       "\n",
       "   reserve_visitors  \n",
       "0                 1  \n",
       "1                 3  \n",
       "2                 6  \n",
       "3                 2  \n",
       "4                 5  "
      ]
     },
     "execution_count": 52,
     "metadata": {},
     "output_type": "execute_result"
    }
   ],
   "source": [
    "air_reserve.head()"
   ]
  },
  {
   "cell_type": "code",
   "execution_count": 57,
   "id": "4db18c19",
   "metadata": {},
   "outputs": [
    {
     "data": {
      "text/html": [
       "<div>\n",
       "<style scoped>\n",
       "    .dataframe tbody tr th:only-of-type {\n",
       "        vertical-align: middle;\n",
       "    }\n",
       "\n",
       "    .dataframe tbody tr th {\n",
       "        vertical-align: top;\n",
       "    }\n",
       "\n",
       "    .dataframe thead th {\n",
       "        text-align: right;\n",
       "    }\n",
       "</style>\n",
       "<table border=\"1\" class=\"dataframe\">\n",
       "  <thead>\n",
       "    <tr style=\"text-align: right;\">\n",
       "      <th></th>\n",
       "      <th>air_store_id</th>\n",
       "      <th>visit_datetime</th>\n",
       "      <th>reserve_datetime</th>\n",
       "      <th>reserve_visitors</th>\n",
       "    </tr>\n",
       "  </thead>\n",
       "  <tbody>\n",
       "    <tr>\n",
       "      <th>71890</th>\n",
       "      <td>air_0a74a5408a0b8642</td>\n",
       "      <td>2017-03-10 18:00:00</td>\n",
       "      <td>2017-03-08 15:00:00</td>\n",
       "      <td>2</td>\n",
       "    </tr>\n",
       "    <tr>\n",
       "      <th>7672</th>\n",
       "      <td>air_e55abd740f93ecc4</td>\n",
       "      <td>2016-03-22 17:00:00</td>\n",
       "      <td>2016-03-22 00:00:00</td>\n",
       "      <td>3</td>\n",
       "    </tr>\n",
       "    <tr>\n",
       "      <th>72316</th>\n",
       "      <td>air_bc991c51d6613745</td>\n",
       "      <td>2017-03-10 20:00:00</td>\n",
       "      <td>2017-03-08 17:00:00</td>\n",
       "      <td>16</td>\n",
       "    </tr>\n",
       "    <tr>\n",
       "      <th>13297</th>\n",
       "      <td>air_f911308e19d64236</td>\n",
       "      <td>2016-05-15 13:00:00</td>\n",
       "      <td>2016-05-11 13:00:00</td>\n",
       "      <td>2</td>\n",
       "    </tr>\n",
       "    <tr>\n",
       "      <th>31548</th>\n",
       "      <td>air_1408dd53f31a8a65</td>\n",
       "      <td>2016-12-07 21:00:00</td>\n",
       "      <td>2016-12-06 19:00:00</td>\n",
       "      <td>3</td>\n",
       "    </tr>\n",
       "    <tr>\n",
       "      <th>34353</th>\n",
       "      <td>air_df554c4527a1cfe6</td>\n",
       "      <td>2016-12-13 20:00:00</td>\n",
       "      <td>2016-11-30 21:00:00</td>\n",
       "      <td>2</td>\n",
       "    </tr>\n",
       "    <tr>\n",
       "      <th>54117</th>\n",
       "      <td>air_55c3627912b9c849</td>\n",
       "      <td>2017-01-27 18:00:00</td>\n",
       "      <td>2017-01-07 00:00:00</td>\n",
       "      <td>2</td>\n",
       "    </tr>\n",
       "    <tr>\n",
       "      <th>50327</th>\n",
       "      <td>air_55c3627912b9c849</td>\n",
       "      <td>2017-01-17 19:00:00</td>\n",
       "      <td>2017-01-17 19:00:00</td>\n",
       "      <td>4</td>\n",
       "    </tr>\n",
       "    <tr>\n",
       "      <th>33714</th>\n",
       "      <td>air_a083834e7ffe187e</td>\n",
       "      <td>2016-12-11 20:00:00</td>\n",
       "      <td>2016-12-11 18:00:00</td>\n",
       "      <td>2</td>\n",
       "    </tr>\n",
       "    <tr>\n",
       "      <th>41738</th>\n",
       "      <td>air_4092cfbd95a3ac1b</td>\n",
       "      <td>2016-12-25 20:00:00</td>\n",
       "      <td>2016-12-25 15:00:00</td>\n",
       "      <td>2</td>\n",
       "    </tr>\n",
       "  </tbody>\n",
       "</table>\n",
       "</div>"
      ],
      "text/plain": [
       "               air_store_id       visit_datetime     reserve_datetime  \\\n",
       "71890  air_0a74a5408a0b8642  2017-03-10 18:00:00  2017-03-08 15:00:00   \n",
       "7672   air_e55abd740f93ecc4  2016-03-22 17:00:00  2016-03-22 00:00:00   \n",
       "72316  air_bc991c51d6613745  2017-03-10 20:00:00  2017-03-08 17:00:00   \n",
       "13297  air_f911308e19d64236  2016-05-15 13:00:00  2016-05-11 13:00:00   \n",
       "31548  air_1408dd53f31a8a65  2016-12-07 21:00:00  2016-12-06 19:00:00   \n",
       "34353  air_df554c4527a1cfe6  2016-12-13 20:00:00  2016-11-30 21:00:00   \n",
       "54117  air_55c3627912b9c849  2017-01-27 18:00:00  2017-01-07 00:00:00   \n",
       "50327  air_55c3627912b9c849  2017-01-17 19:00:00  2017-01-17 19:00:00   \n",
       "33714  air_a083834e7ffe187e  2016-12-11 20:00:00  2016-12-11 18:00:00   \n",
       "41738  air_4092cfbd95a3ac1b  2016-12-25 20:00:00  2016-12-25 15:00:00   \n",
       "\n",
       "       reserve_visitors  \n",
       "71890                 2  \n",
       "7672                  3  \n",
       "72316                16  \n",
       "13297                 2  \n",
       "31548                 3  \n",
       "34353                 2  \n",
       "54117                 2  \n",
       "50327                 4  \n",
       "33714                 2  \n",
       "41738                 2  "
      ]
     },
     "metadata": {},
     "output_type": "display_data"
    }
   ],
   "source": [
    "display(air_reserve.sample(10))"
   ]
  },
  {
   "cell_type": "code",
   "execution_count": 58,
   "id": "dfa281a4",
   "metadata": {},
   "outputs": [
    {
     "data": {
      "text/plain": [
       "2770"
      ]
     },
     "execution_count": 58,
     "metadata": {},
     "output_type": "execute_result"
    }
   ],
   "source": [
    "air_reserve.duplicated().sum()"
   ]
  },
  {
   "cell_type": "code",
   "execution_count": 41,
   "id": "acff5573",
   "metadata": {},
   "outputs": [
    {
     "data": {
      "text/html": [
       "<div>\n",
       "<style scoped>\n",
       "    .dataframe tbody tr th:only-of-type {\n",
       "        vertical-align: middle;\n",
       "    }\n",
       "\n",
       "    .dataframe tbody tr th {\n",
       "        vertical-align: top;\n",
       "    }\n",
       "\n",
       "    .dataframe thead th {\n",
       "        text-align: right;\n",
       "    }\n",
       "</style>\n",
       "<table border=\"1\" class=\"dataframe\">\n",
       "  <thead>\n",
       "    <tr style=\"text-align: right;\">\n",
       "      <th></th>\n",
       "      <th>air_store_id</th>\n",
       "      <th>visit_datetime</th>\n",
       "      <th>reserve_datetime</th>\n",
       "      <th>reserve_visitors</th>\n",
       "    </tr>\n",
       "  </thead>\n",
       "  <tbody>\n",
       "    <tr>\n",
       "      <th>48</th>\n",
       "      <td>air_789466e488705c93</td>\n",
       "      <td>2016-01-04 17:00:00</td>\n",
       "      <td>2016-01-04 17:00:00</td>\n",
       "      <td>2</td>\n",
       "    </tr>\n",
       "    <tr>\n",
       "      <th>92</th>\n",
       "      <td>air_e55abd740f93ecc4</td>\n",
       "      <td>2016-01-05 20:00:00</td>\n",
       "      <td>2016-01-05 18:00:00</td>\n",
       "      <td>2</td>\n",
       "    </tr>\n",
       "    <tr>\n",
       "      <th>122</th>\n",
       "      <td>air_632ba66e1f75aa28</td>\n",
       "      <td>2016-01-06 19:00:00</td>\n",
       "      <td>2016-01-06 15:00:00</td>\n",
       "      <td>2</td>\n",
       "    </tr>\n",
       "    <tr>\n",
       "      <th>163</th>\n",
       "      <td>air_de692863bb2dd758</td>\n",
       "      <td>2016-01-07 18:00:00</td>\n",
       "      <td>2016-01-07 18:00:00</td>\n",
       "      <td>2</td>\n",
       "    </tr>\n",
       "    <tr>\n",
       "      <th>196</th>\n",
       "      <td>air_03963426c9312048</td>\n",
       "      <td>2016-01-08 17:00:00</td>\n",
       "      <td>2016-01-06 15:00:00</td>\n",
       "      <td>4</td>\n",
       "    </tr>\n",
       "    <tr>\n",
       "      <th>...</th>\n",
       "      <td>...</td>\n",
       "      <td>...</td>\n",
       "      <td>...</td>\n",
       "      <td>...</td>\n",
       "    </tr>\n",
       "    <tr>\n",
       "      <th>91548</th>\n",
       "      <td>air_db4b38ebe7a7ceff</td>\n",
       "      <td>2017-04-29 17:00:00</td>\n",
       "      <td>2017-04-06 22:00:00</td>\n",
       "      <td>2</td>\n",
       "    </tr>\n",
       "    <tr>\n",
       "      <th>91611</th>\n",
       "      <td>air_640cf4835f0d9ba3</td>\n",
       "      <td>2017-04-29 19:00:00</td>\n",
       "      <td>2017-03-30 17:00:00</td>\n",
       "      <td>2</td>\n",
       "    </tr>\n",
       "    <tr>\n",
       "      <th>91874</th>\n",
       "      <td>air_900d755ebd2f7bbd</td>\n",
       "      <td>2017-05-04 12:00:00</td>\n",
       "      <td>2017-04-19 16:00:00</td>\n",
       "      <td>3</td>\n",
       "    </tr>\n",
       "    <tr>\n",
       "      <th>92157</th>\n",
       "      <td>air_900d755ebd2f7bbd</td>\n",
       "      <td>2017-05-12 18:00:00</td>\n",
       "      <td>2017-04-19 16:00:00</td>\n",
       "      <td>6</td>\n",
       "    </tr>\n",
       "    <tr>\n",
       "      <th>92266</th>\n",
       "      <td>air_8e492076a1179383</td>\n",
       "      <td>2017-05-17 18:00:00</td>\n",
       "      <td>2017-04-18 20:00:00</td>\n",
       "      <td>2</td>\n",
       "    </tr>\n",
       "  </tbody>\n",
       "</table>\n",
       "<p>2770 rows × 4 columns</p>\n",
       "</div>"
      ],
      "text/plain": [
       "               air_store_id       visit_datetime     reserve_datetime  \\\n",
       "48     air_789466e488705c93  2016-01-04 17:00:00  2016-01-04 17:00:00   \n",
       "92     air_e55abd740f93ecc4  2016-01-05 20:00:00  2016-01-05 18:00:00   \n",
       "122    air_632ba66e1f75aa28  2016-01-06 19:00:00  2016-01-06 15:00:00   \n",
       "163    air_de692863bb2dd758  2016-01-07 18:00:00  2016-01-07 18:00:00   \n",
       "196    air_03963426c9312048  2016-01-08 17:00:00  2016-01-06 15:00:00   \n",
       "...                     ...                  ...                  ...   \n",
       "91548  air_db4b38ebe7a7ceff  2017-04-29 17:00:00  2017-04-06 22:00:00   \n",
       "91611  air_640cf4835f0d9ba3  2017-04-29 19:00:00  2017-03-30 17:00:00   \n",
       "91874  air_900d755ebd2f7bbd  2017-05-04 12:00:00  2017-04-19 16:00:00   \n",
       "92157  air_900d755ebd2f7bbd  2017-05-12 18:00:00  2017-04-19 16:00:00   \n",
       "92266  air_8e492076a1179383  2017-05-17 18:00:00  2017-04-18 20:00:00   \n",
       "\n",
       "       reserve_visitors  \n",
       "48                    2  \n",
       "92                    2  \n",
       "122                   2  \n",
       "163                   2  \n",
       "196                   4  \n",
       "...                 ...  \n",
       "91548                 2  \n",
       "91611                 2  \n",
       "91874                 3  \n",
       "92157                 6  \n",
       "92266                 2  \n",
       "\n",
       "[2770 rows x 4 columns]"
      ]
     },
     "execution_count": 41,
     "metadata": {},
     "output_type": "execute_result"
    }
   ],
   "source": [
    "air_reserve[air_reserve.duplicated()]"
   ]
  },
  {
   "cell_type": "code",
   "execution_count": 55,
   "id": "cb49a6b0",
   "metadata": {},
   "outputs": [
    {
     "data": {
      "text/html": [
       "<div>\n",
       "<style scoped>\n",
       "    .dataframe tbody tr th:only-of-type {\n",
       "        vertical-align: middle;\n",
       "    }\n",
       "\n",
       "    .dataframe tbody tr th {\n",
       "        vertical-align: top;\n",
       "    }\n",
       "\n",
       "    .dataframe thead th {\n",
       "        text-align: right;\n",
       "    }\n",
       "</style>\n",
       "<table border=\"1\" class=\"dataframe\">\n",
       "  <thead>\n",
       "    <tr style=\"text-align: right;\">\n",
       "      <th></th>\n",
       "      <th>air_store_id</th>\n",
       "      <th>visit_datetime</th>\n",
       "      <th>reserve_datetime</th>\n",
       "      <th>reserve_visitors</th>\n",
       "    </tr>\n",
       "  </thead>\n",
       "  <tbody>\n",
       "    <tr>\n",
       "      <th>47</th>\n",
       "      <td>air_789466e488705c93</td>\n",
       "      <td>2016-01-04 17:00:00</td>\n",
       "      <td>2016-01-04 17:00:00</td>\n",
       "      <td>2</td>\n",
       "    </tr>\n",
       "    <tr>\n",
       "      <th>48</th>\n",
       "      <td>air_789466e488705c93</td>\n",
       "      <td>2016-01-04 17:00:00</td>\n",
       "      <td>2016-01-04 17:00:00</td>\n",
       "      <td>2</td>\n",
       "    </tr>\n",
       "  </tbody>\n",
       "</table>\n",
       "</div>"
      ],
      "text/plain": [
       "            air_store_id       visit_datetime     reserve_datetime  \\\n",
       "47  air_789466e488705c93  2016-01-04 17:00:00  2016-01-04 17:00:00   \n",
       "48  air_789466e488705c93  2016-01-04 17:00:00  2016-01-04 17:00:00   \n",
       "\n",
       "    reserve_visitors  \n",
       "47                 2  \n",
       "48                 2  "
      ]
     },
     "execution_count": 55,
     "metadata": {},
     "output_type": "execute_result"
    }
   ],
   "source": [
    "air_reserve[(air_reserve['air_store_id'] == 'air_789466e488705c93') & (air_reserve['visit_datetime'] == '2016-01-04 17:00:00') ]"
   ]
  },
  {
   "cell_type": "code",
   "execution_count": 56,
   "id": "c2e64c2b",
   "metadata": {},
   "outputs": [
    {
     "data": {
      "text/html": [
       "<div>\n",
       "<style scoped>\n",
       "    .dataframe tbody tr th:only-of-type {\n",
       "        vertical-align: middle;\n",
       "    }\n",
       "\n",
       "    .dataframe tbody tr th {\n",
       "        vertical-align: top;\n",
       "    }\n",
       "\n",
       "    .dataframe thead th {\n",
       "        text-align: right;\n",
       "    }\n",
       "</style>\n",
       "<table border=\"1\" class=\"dataframe\">\n",
       "  <thead>\n",
       "    <tr style=\"text-align: right;\">\n",
       "      <th></th>\n",
       "      <th>air_store_id</th>\n",
       "      <th>visit_datetime</th>\n",
       "      <th>reserve_datetime</th>\n",
       "      <th>reserve_visitors</th>\n",
       "    </tr>\n",
       "  </thead>\n",
       "  <tbody>\n",
       "    <tr>\n",
       "      <th>91</th>\n",
       "      <td>air_e55abd740f93ecc4</td>\n",
       "      <td>2016-01-05 20:00:00</td>\n",
       "      <td>2016-01-05 18:00:00</td>\n",
       "      <td>2</td>\n",
       "    </tr>\n",
       "    <tr>\n",
       "      <th>92</th>\n",
       "      <td>air_e55abd740f93ecc4</td>\n",
       "      <td>2016-01-05 20:00:00</td>\n",
       "      <td>2016-01-05 18:00:00</td>\n",
       "      <td>2</td>\n",
       "    </tr>\n",
       "  </tbody>\n",
       "</table>\n",
       "</div>"
      ],
      "text/plain": [
       "            air_store_id       visit_datetime     reserve_datetime  \\\n",
       "91  air_e55abd740f93ecc4  2016-01-05 20:00:00  2016-01-05 18:00:00   \n",
       "92  air_e55abd740f93ecc4  2016-01-05 20:00:00  2016-01-05 18:00:00   \n",
       "\n",
       "    reserve_visitors  \n",
       "91                 2  \n",
       "92                 2  "
      ]
     },
     "execution_count": 56,
     "metadata": {},
     "output_type": "execute_result"
    }
   ],
   "source": [
    "air_reserve[(air_reserve['air_store_id'] == 'air_e55abd740f93ecc4') & (air_reserve['visit_datetime'] == '2016-01-05 20:00:00') ]"
   ]
  },
  {
   "cell_type": "markdown",
   "id": "e2944318",
   "metadata": {},
   "source": [
    "## hpg_reserve"
   ]
  },
  {
   "cell_type": "code",
   "execution_count": 43,
   "id": "f52e20a4",
   "metadata": {},
   "outputs": [
    {
     "data": {
      "text/plain": [
       "(2000320, 4)"
      ]
     },
     "execution_count": 43,
     "metadata": {},
     "output_type": "execute_result"
    }
   ],
   "source": [
    "hpg_reserve.shape"
   ]
  },
  {
   "cell_type": "code",
   "execution_count": 7,
   "id": "86313ff8",
   "metadata": {},
   "outputs": [
    {
     "data": {
      "text/html": [
       "<div>\n",
       "<style scoped>\n",
       "    .dataframe tbody tr th:only-of-type {\n",
       "        vertical-align: middle;\n",
       "    }\n",
       "\n",
       "    .dataframe tbody tr th {\n",
       "        vertical-align: top;\n",
       "    }\n",
       "\n",
       "    .dataframe thead th {\n",
       "        text-align: right;\n",
       "    }\n",
       "</style>\n",
       "<table border=\"1\" class=\"dataframe\">\n",
       "  <thead>\n",
       "    <tr style=\"text-align: right;\">\n",
       "      <th></th>\n",
       "      <th>hpg_store_id</th>\n",
       "      <th>visit_datetime</th>\n",
       "      <th>reserve_datetime</th>\n",
       "      <th>reserve_visitors</th>\n",
       "    </tr>\n",
       "  </thead>\n",
       "  <tbody>\n",
       "    <tr>\n",
       "      <th>0</th>\n",
       "      <td>hpg_c63f6f42e088e50f</td>\n",
       "      <td>2016-01-01 11:00:00</td>\n",
       "      <td>2016-01-01 09:00:00</td>\n",
       "      <td>1</td>\n",
       "    </tr>\n",
       "    <tr>\n",
       "      <th>1</th>\n",
       "      <td>hpg_dac72789163a3f47</td>\n",
       "      <td>2016-01-01 13:00:00</td>\n",
       "      <td>2016-01-01 06:00:00</td>\n",
       "      <td>3</td>\n",
       "    </tr>\n",
       "    <tr>\n",
       "      <th>2</th>\n",
       "      <td>hpg_c8e24dcf51ca1eb5</td>\n",
       "      <td>2016-01-01 16:00:00</td>\n",
       "      <td>2016-01-01 14:00:00</td>\n",
       "      <td>2</td>\n",
       "    </tr>\n",
       "    <tr>\n",
       "      <th>3</th>\n",
       "      <td>hpg_24bb207e5fd49d4a</td>\n",
       "      <td>2016-01-01 17:00:00</td>\n",
       "      <td>2016-01-01 11:00:00</td>\n",
       "      <td>5</td>\n",
       "    </tr>\n",
       "    <tr>\n",
       "      <th>4</th>\n",
       "      <td>hpg_25291c542ebb3bc2</td>\n",
       "      <td>2016-01-01 17:00:00</td>\n",
       "      <td>2016-01-01 03:00:00</td>\n",
       "      <td>13</td>\n",
       "    </tr>\n",
       "  </tbody>\n",
       "</table>\n",
       "</div>"
      ],
      "text/plain": [
       "           hpg_store_id       visit_datetime     reserve_datetime  \\\n",
       "0  hpg_c63f6f42e088e50f  2016-01-01 11:00:00  2016-01-01 09:00:00   \n",
       "1  hpg_dac72789163a3f47  2016-01-01 13:00:00  2016-01-01 06:00:00   \n",
       "2  hpg_c8e24dcf51ca1eb5  2016-01-01 16:00:00  2016-01-01 14:00:00   \n",
       "3  hpg_24bb207e5fd49d4a  2016-01-01 17:00:00  2016-01-01 11:00:00   \n",
       "4  hpg_25291c542ebb3bc2  2016-01-01 17:00:00  2016-01-01 03:00:00   \n",
       "\n",
       "   reserve_visitors  \n",
       "0                 1  \n",
       "1                 3  \n",
       "2                 2  \n",
       "3                 5  \n",
       "4                13  "
      ]
     },
     "execution_count": 7,
     "metadata": {},
     "output_type": "execute_result"
    }
   ],
   "source": [
    "hpg_reserve.head()"
   ]
  },
  {
   "cell_type": "code",
   "execution_count": 45,
   "id": "35f52c1d",
   "metadata": {},
   "outputs": [
    {
     "data": {
      "text/plain": [
       "16279"
      ]
     },
     "execution_count": 45,
     "metadata": {},
     "output_type": "execute_result"
    }
   ],
   "source": [
    "hpg_reserve.duplicated().sum()"
   ]
  },
  {
   "cell_type": "markdown",
   "id": "9cb28050",
   "metadata": {},
   "source": [
    "## store_id_relation"
   ]
  },
  {
   "cell_type": "code",
   "execution_count": 47,
   "id": "74a71e6d",
   "metadata": {},
   "outputs": [
    {
     "data": {
      "text/plain": [
       "(150, 2)"
      ]
     },
     "execution_count": 47,
     "metadata": {},
     "output_type": "execute_result"
    }
   ],
   "source": [
    "store_id_relation.shape"
   ]
  },
  {
   "cell_type": "code",
   "execution_count": 10,
   "id": "3ae3a101",
   "metadata": {},
   "outputs": [
    {
     "data": {
      "text/html": [
       "<div>\n",
       "<style scoped>\n",
       "    .dataframe tbody tr th:only-of-type {\n",
       "        vertical-align: middle;\n",
       "    }\n",
       "\n",
       "    .dataframe tbody tr th {\n",
       "        vertical-align: top;\n",
       "    }\n",
       "\n",
       "    .dataframe thead th {\n",
       "        text-align: right;\n",
       "    }\n",
       "</style>\n",
       "<table border=\"1\" class=\"dataframe\">\n",
       "  <thead>\n",
       "    <tr style=\"text-align: right;\">\n",
       "      <th></th>\n",
       "      <th>air_store_id</th>\n",
       "      <th>hpg_store_id</th>\n",
       "    </tr>\n",
       "  </thead>\n",
       "  <tbody>\n",
       "    <tr>\n",
       "      <th>0</th>\n",
       "      <td>air_63b13c56b7201bd9</td>\n",
       "      <td>hpg_4bc649e72e2a239a</td>\n",
       "    </tr>\n",
       "    <tr>\n",
       "      <th>1</th>\n",
       "      <td>air_a24bf50c3e90d583</td>\n",
       "      <td>hpg_c34b496d0305a809</td>\n",
       "    </tr>\n",
       "    <tr>\n",
       "      <th>2</th>\n",
       "      <td>air_c7f78b4f3cba33ff</td>\n",
       "      <td>hpg_cd8ae0d9bbd58ff9</td>\n",
       "    </tr>\n",
       "    <tr>\n",
       "      <th>3</th>\n",
       "      <td>air_947eb2cae4f3e8f2</td>\n",
       "      <td>hpg_de24ea49dc25d6b8</td>\n",
       "    </tr>\n",
       "    <tr>\n",
       "      <th>4</th>\n",
       "      <td>air_965b2e0cf4119003</td>\n",
       "      <td>hpg_653238a84804d8e7</td>\n",
       "    </tr>\n",
       "  </tbody>\n",
       "</table>\n",
       "</div>"
      ],
      "text/plain": [
       "           air_store_id          hpg_store_id\n",
       "0  air_63b13c56b7201bd9  hpg_4bc649e72e2a239a\n",
       "1  air_a24bf50c3e90d583  hpg_c34b496d0305a809\n",
       "2  air_c7f78b4f3cba33ff  hpg_cd8ae0d9bbd58ff9\n",
       "3  air_947eb2cae4f3e8f2  hpg_de24ea49dc25d6b8\n",
       "4  air_965b2e0cf4119003  hpg_653238a84804d8e7"
      ]
     },
     "execution_count": 10,
     "metadata": {},
     "output_type": "execute_result"
    }
   ],
   "source": [
    "store_id_relation.head()"
   ]
  },
  {
   "cell_type": "code",
   "execution_count": 46,
   "id": "14cb9d06",
   "metadata": {},
   "outputs": [
    {
     "data": {
      "text/plain": [
       "0"
      ]
     },
     "execution_count": 46,
     "metadata": {},
     "output_type": "execute_result"
    }
   ],
   "source": [
    "store_id_relation.duplicated().sum()"
   ]
  },
  {
   "cell_type": "markdown",
   "id": "44438370",
   "metadata": {},
   "source": [
    "## air_visit_data"
   ]
  },
  {
   "cell_type": "code",
   "execution_count": 48,
   "id": "1b677dbc",
   "metadata": {},
   "outputs": [
    {
     "data": {
      "text/plain": [
       "(252108, 3)"
      ]
     },
     "execution_count": 48,
     "metadata": {},
     "output_type": "execute_result"
    }
   ],
   "source": [
    "air_visit_data.shape"
   ]
  },
  {
   "cell_type": "code",
   "execution_count": 13,
   "id": "34fb600c",
   "metadata": {},
   "outputs": [
    {
     "data": {
      "text/html": [
       "<div>\n",
       "<style scoped>\n",
       "    .dataframe tbody tr th:only-of-type {\n",
       "        vertical-align: middle;\n",
       "    }\n",
       "\n",
       "    .dataframe tbody tr th {\n",
       "        vertical-align: top;\n",
       "    }\n",
       "\n",
       "    .dataframe thead th {\n",
       "        text-align: right;\n",
       "    }\n",
       "</style>\n",
       "<table border=\"1\" class=\"dataframe\">\n",
       "  <thead>\n",
       "    <tr style=\"text-align: right;\">\n",
       "      <th></th>\n",
       "      <th>air_store_id</th>\n",
       "      <th>visit_date</th>\n",
       "      <th>visitors</th>\n",
       "    </tr>\n",
       "  </thead>\n",
       "  <tbody>\n",
       "    <tr>\n",
       "      <th>0</th>\n",
       "      <td>air_ba937bf13d40fb24</td>\n",
       "      <td>2016-01-13</td>\n",
       "      <td>25</td>\n",
       "    </tr>\n",
       "    <tr>\n",
       "      <th>1</th>\n",
       "      <td>air_ba937bf13d40fb24</td>\n",
       "      <td>2016-01-14</td>\n",
       "      <td>32</td>\n",
       "    </tr>\n",
       "    <tr>\n",
       "      <th>2</th>\n",
       "      <td>air_ba937bf13d40fb24</td>\n",
       "      <td>2016-01-15</td>\n",
       "      <td>29</td>\n",
       "    </tr>\n",
       "    <tr>\n",
       "      <th>3</th>\n",
       "      <td>air_ba937bf13d40fb24</td>\n",
       "      <td>2016-01-16</td>\n",
       "      <td>22</td>\n",
       "    </tr>\n",
       "    <tr>\n",
       "      <th>4</th>\n",
       "      <td>air_ba937bf13d40fb24</td>\n",
       "      <td>2016-01-18</td>\n",
       "      <td>6</td>\n",
       "    </tr>\n",
       "  </tbody>\n",
       "</table>\n",
       "</div>"
      ],
      "text/plain": [
       "           air_store_id  visit_date  visitors\n",
       "0  air_ba937bf13d40fb24  2016-01-13        25\n",
       "1  air_ba937bf13d40fb24  2016-01-14        32\n",
       "2  air_ba937bf13d40fb24  2016-01-15        29\n",
       "3  air_ba937bf13d40fb24  2016-01-16        22\n",
       "4  air_ba937bf13d40fb24  2016-01-18         6"
      ]
     },
     "execution_count": 13,
     "metadata": {},
     "output_type": "execute_result"
    }
   ],
   "source": [
    "air_visit_data.head()"
   ]
  },
  {
   "cell_type": "code",
   "execution_count": 49,
   "id": "8220e0df",
   "metadata": {},
   "outputs": [
    {
     "data": {
      "text/plain": [
       "0"
      ]
     },
     "execution_count": 49,
     "metadata": {},
     "output_type": "execute_result"
    }
   ],
   "source": [
    "air_visit_data.duplicated().sum()"
   ]
  },
  {
   "cell_type": "markdown",
   "id": "ae531a14",
   "metadata": {},
   "source": [
    "## data_info"
   ]
  },
  {
   "cell_type": "code",
   "execution_count": 12,
   "id": "e4fec10b",
   "metadata": {},
   "outputs": [
    {
     "data": {
      "text/html": [
       "<div>\n",
       "<style scoped>\n",
       "    .dataframe tbody tr th:only-of-type {\n",
       "        vertical-align: middle;\n",
       "    }\n",
       "\n",
       "    .dataframe tbody tr th {\n",
       "        vertical-align: top;\n",
       "    }\n",
       "\n",
       "    .dataframe thead th {\n",
       "        text-align: right;\n",
       "    }\n",
       "</style>\n",
       "<table border=\"1\" class=\"dataframe\">\n",
       "  <thead>\n",
       "    <tr style=\"text-align: right;\">\n",
       "      <th></th>\n",
       "      <th>calendar_date</th>\n",
       "      <th>day_of_week</th>\n",
       "      <th>holiday_flg</th>\n",
       "    </tr>\n",
       "  </thead>\n",
       "  <tbody>\n",
       "    <tr>\n",
       "      <th>0</th>\n",
       "      <td>2016-01-01</td>\n",
       "      <td>Friday</td>\n",
       "      <td>1</td>\n",
       "    </tr>\n",
       "    <tr>\n",
       "      <th>1</th>\n",
       "      <td>2016-01-02</td>\n",
       "      <td>Saturday</td>\n",
       "      <td>1</td>\n",
       "    </tr>\n",
       "    <tr>\n",
       "      <th>2</th>\n",
       "      <td>2016-01-03</td>\n",
       "      <td>Sunday</td>\n",
       "      <td>1</td>\n",
       "    </tr>\n",
       "    <tr>\n",
       "      <th>3</th>\n",
       "      <td>2016-01-04</td>\n",
       "      <td>Monday</td>\n",
       "      <td>0</td>\n",
       "    </tr>\n",
       "    <tr>\n",
       "      <th>4</th>\n",
       "      <td>2016-01-05</td>\n",
       "      <td>Tuesday</td>\n",
       "      <td>0</td>\n",
       "    </tr>\n",
       "  </tbody>\n",
       "</table>\n",
       "</div>"
      ],
      "text/plain": [
       "  calendar_date day_of_week  holiday_flg\n",
       "0    2016-01-01      Friday            1\n",
       "1    2016-01-02    Saturday            1\n",
       "2    2016-01-03      Sunday            1\n",
       "3    2016-01-04      Monday            0\n",
       "4    2016-01-05     Tuesday            0"
      ]
     },
     "execution_count": 12,
     "metadata": {},
     "output_type": "execute_result"
    }
   ],
   "source": [
    "date_info.head()"
   ]
  },
  {
   "cell_type": "markdown",
   "id": "1abbc3d6",
   "metadata": {},
   "source": [
    "## stores to pred"
   ]
  },
  {
   "cell_type": "code",
   "execution_count": 70,
   "id": "be64a569",
   "metadata": {},
   "outputs": [
    {
     "data": {
      "text/html": [
       "<div>\n",
       "<style scoped>\n",
       "    .dataframe tbody tr th:only-of-type {\n",
       "        vertical-align: middle;\n",
       "    }\n",
       "\n",
       "    .dataframe tbody tr th {\n",
       "        vertical-align: top;\n",
       "    }\n",
       "\n",
       "    .dataframe thead th {\n",
       "        text-align: right;\n",
       "    }\n",
       "</style>\n",
       "<table border=\"1\" class=\"dataframe\">\n",
       "  <thead>\n",
       "    <tr style=\"text-align: right;\">\n",
       "      <th></th>\n",
       "      <th>id</th>\n",
       "      <th>visitors</th>\n",
       "    </tr>\n",
       "  </thead>\n",
       "  <tbody>\n",
       "    <tr>\n",
       "      <th>0</th>\n",
       "      <td>air_00a91d42b08b08d9_2017-04-23</td>\n",
       "      <td>0</td>\n",
       "    </tr>\n",
       "    <tr>\n",
       "      <th>1</th>\n",
       "      <td>air_00a91d42b08b08d9_2017-04-24</td>\n",
       "      <td>0</td>\n",
       "    </tr>\n",
       "    <tr>\n",
       "      <th>2</th>\n",
       "      <td>air_00a91d42b08b08d9_2017-04-25</td>\n",
       "      <td>0</td>\n",
       "    </tr>\n",
       "    <tr>\n",
       "      <th>3</th>\n",
       "      <td>air_00a91d42b08b08d9_2017-04-26</td>\n",
       "      <td>0</td>\n",
       "    </tr>\n",
       "    <tr>\n",
       "      <th>4</th>\n",
       "      <td>air_00a91d42b08b08d9_2017-04-27</td>\n",
       "      <td>0</td>\n",
       "    </tr>\n",
       "  </tbody>\n",
       "</table>\n",
       "</div>"
      ],
      "text/plain": [
       "                                id  visitors\n",
       "0  air_00a91d42b08b08d9_2017-04-23         0\n",
       "1  air_00a91d42b08b08d9_2017-04-24         0\n",
       "2  air_00a91d42b08b08d9_2017-04-25         0\n",
       "3  air_00a91d42b08b08d9_2017-04-26         0\n",
       "4  air_00a91d42b08b08d9_2017-04-27         0"
      ]
     },
     "execution_count": 70,
     "metadata": {},
     "output_type": "execute_result"
    }
   ],
   "source": [
    "stores_to_pred.head()"
   ]
  },
  {
   "cell_type": "code",
   "execution_count": 71,
   "id": "ef61ce11",
   "metadata": {},
   "outputs": [
    {
     "data": {
      "text/html": [
       "<div>\n",
       "<style scoped>\n",
       "    .dataframe tbody tr th:only-of-type {\n",
       "        vertical-align: middle;\n",
       "    }\n",
       "\n",
       "    .dataframe tbody tr th {\n",
       "        vertical-align: top;\n",
       "    }\n",
       "\n",
       "    .dataframe thead th {\n",
       "        text-align: right;\n",
       "    }\n",
       "</style>\n",
       "<table border=\"1\" class=\"dataframe\">\n",
       "  <thead>\n",
       "    <tr style=\"text-align: right;\">\n",
       "      <th></th>\n",
       "      <th>id</th>\n",
       "      <th>air_store_id</th>\n",
       "      <th>visit_date</th>\n",
       "      <th>visitors</th>\n",
       "    </tr>\n",
       "  </thead>\n",
       "  <tbody>\n",
       "    <tr>\n",
       "      <th>0</th>\n",
       "      <td>air_00a91d42b08b08d9_2017-04-23</td>\n",
       "      <td>air_00a91d42b08b08d9</td>\n",
       "      <td>2017-04-23</td>\n",
       "      <td>0</td>\n",
       "    </tr>\n",
       "    <tr>\n",
       "      <th>1</th>\n",
       "      <td>air_00a91d42b08b08d9_2017-04-24</td>\n",
       "      <td>air_00a91d42b08b08d9</td>\n",
       "      <td>2017-04-24</td>\n",
       "      <td>0</td>\n",
       "    </tr>\n",
       "    <tr>\n",
       "      <th>2</th>\n",
       "      <td>air_00a91d42b08b08d9_2017-04-25</td>\n",
       "      <td>air_00a91d42b08b08d9</td>\n",
       "      <td>2017-04-25</td>\n",
       "      <td>0</td>\n",
       "    </tr>\n",
       "    <tr>\n",
       "      <th>3</th>\n",
       "      <td>air_00a91d42b08b08d9_2017-04-26</td>\n",
       "      <td>air_00a91d42b08b08d9</td>\n",
       "      <td>2017-04-26</td>\n",
       "      <td>0</td>\n",
       "    </tr>\n",
       "    <tr>\n",
       "      <th>4</th>\n",
       "      <td>air_00a91d42b08b08d9_2017-04-27</td>\n",
       "      <td>air_00a91d42b08b08d9</td>\n",
       "      <td>2017-04-27</td>\n",
       "      <td>0</td>\n",
       "    </tr>\n",
       "  </tbody>\n",
       "</table>\n",
       "</div>"
      ],
      "text/plain": [
       "                                id          air_store_id visit_date  visitors\n",
       "0  air_00a91d42b08b08d9_2017-04-23  air_00a91d42b08b08d9 2017-04-23         0\n",
       "1  air_00a91d42b08b08d9_2017-04-24  air_00a91d42b08b08d9 2017-04-24         0\n",
       "2  air_00a91d42b08b08d9_2017-04-25  air_00a91d42b08b08d9 2017-04-25         0\n",
       "3  air_00a91d42b08b08d9_2017-04-26  air_00a91d42b08b08d9 2017-04-26         0\n",
       "4  air_00a91d42b08b08d9_2017-04-27  air_00a91d42b08b08d9 2017-04-27         0"
      ]
     },
     "execution_count": 71,
     "metadata": {},
     "output_type": "execute_result"
    }
   ],
   "source": [
    "id_split = stores_to_pred['id'].str.split('_', expand=True)\n",
    "id_split.columns = ['source', 'store_id', 'visit_date']\n",
    "stores_to_pred = pd.concat([stores_to_pred, id_split], axis=1)\n",
    "stores_to_pred['air_store_id']=stores_to_pred['source'].str.cat(stores_to_pred['store_id'], sep='_')\n",
    "stores_to_pred = stores_to_pred[['id', 'air_store_id', 'visit_date', 'visitors']]\n",
    "stores_to_pred['visit_date'] = pd.to_datetime(stores_to_pred['visit_date'])\n",
    "\n",
    "stores_to_pred.head()"
   ]
  },
  {
   "cell_type": "code",
   "execution_count": 72,
   "id": "5981a24d",
   "metadata": {},
   "outputs": [
    {
     "data": {
      "text/plain": [
       "821"
      ]
     },
     "execution_count": 72,
     "metadata": {},
     "output_type": "execute_result"
    }
   ],
   "source": [
    "stores_to_pred.air_store_id.nunique()"
   ]
  },
  {
   "cell_type": "markdown",
   "id": "2b6a81de",
   "metadata": {},
   "source": [
    "## Merge Store"
   ]
  },
  {
   "cell_type": "code",
   "execution_count": 74,
   "id": "a2a3a9fd",
   "metadata": {},
   "outputs": [
    {
     "data": {
      "text/plain": [
       "True"
      ]
     },
     "execution_count": 74,
     "metadata": {},
     "output_type": "execute_result"
    }
   ],
   "source": [
    "stores_to_pred['air_store_id'].isin(air_store_info['air_store_id']).all()"
   ]
  },
  {
   "cell_type": "markdown",
   "id": "05d20bb3",
   "metadata": {},
   "source": [
    "예측하고자 하는 식당의 ID가 전부 air_store_id에 속해있으므로 air_store_id를 기준으로 병합을 해주어도 괜찮습니다."
   ]
  },
  {
   "cell_type": "code",
   "execution_count": 60,
   "id": "67b26516",
   "metadata": {},
   "outputs": [
    {
     "data": {
      "text/plain": [
       "(829, 6)"
      ]
     },
     "execution_count": 60,
     "metadata": {},
     "output_type": "execute_result"
    }
   ],
   "source": [
    "stores = pd.merge(air_store_info, store_id_relation, how='left', on='air_store_id')\n",
    "stores.shape"
   ]
  },
  {
   "cell_type": "code",
   "execution_count": 64,
   "id": "21b93453",
   "metadata": {},
   "outputs": [
    {
     "data": {
      "text/html": [
       "<div>\n",
       "<style scoped>\n",
       "    .dataframe tbody tr th:only-of-type {\n",
       "        vertical-align: middle;\n",
       "    }\n",
       "\n",
       "    .dataframe tbody tr th {\n",
       "        vertical-align: top;\n",
       "    }\n",
       "\n",
       "    .dataframe thead th {\n",
       "        text-align: right;\n",
       "    }\n",
       "</style>\n",
       "<table border=\"1\" class=\"dataframe\">\n",
       "  <thead>\n",
       "    <tr style=\"text-align: right;\">\n",
       "      <th></th>\n",
       "      <th>air_store_id</th>\n",
       "      <th>air_genre_name</th>\n",
       "      <th>air_area_name</th>\n",
       "      <th>latitude</th>\n",
       "      <th>longitude</th>\n",
       "      <th>hpg_store_id</th>\n",
       "    </tr>\n",
       "  </thead>\n",
       "  <tbody>\n",
       "    <tr>\n",
       "      <th>0</th>\n",
       "      <td>air_0f0cdeee6c9bf3d7</td>\n",
       "      <td>Italian/French</td>\n",
       "      <td>Hyōgo-ken Kōbe-shi Kumoidōri</td>\n",
       "      <td>34.695124</td>\n",
       "      <td>135.197853</td>\n",
       "      <td>NaN</td>\n",
       "    </tr>\n",
       "    <tr>\n",
       "      <th>1</th>\n",
       "      <td>air_7cc17a324ae5c7dc</td>\n",
       "      <td>Italian/French</td>\n",
       "      <td>Hyōgo-ken Kōbe-shi Kumoidōri</td>\n",
       "      <td>34.695124</td>\n",
       "      <td>135.197853</td>\n",
       "      <td>hpg_9b38b9e13da6da27</td>\n",
       "    </tr>\n",
       "    <tr>\n",
       "      <th>2</th>\n",
       "      <td>air_fee8dcf4d619598e</td>\n",
       "      <td>Italian/French</td>\n",
       "      <td>Hyōgo-ken Kōbe-shi Kumoidōri</td>\n",
       "      <td>34.695124</td>\n",
       "      <td>135.197853</td>\n",
       "      <td>NaN</td>\n",
       "    </tr>\n",
       "    <tr>\n",
       "      <th>3</th>\n",
       "      <td>air_a17f0778617c76e2</td>\n",
       "      <td>Italian/French</td>\n",
       "      <td>Hyōgo-ken Kōbe-shi Kumoidōri</td>\n",
       "      <td>34.695124</td>\n",
       "      <td>135.197853</td>\n",
       "      <td>NaN</td>\n",
       "    </tr>\n",
       "    <tr>\n",
       "      <th>4</th>\n",
       "      <td>air_83db5aff8f50478e</td>\n",
       "      <td>Italian/French</td>\n",
       "      <td>Tōkyō-to Minato-ku Shibakōen</td>\n",
       "      <td>35.658068</td>\n",
       "      <td>139.751599</td>\n",
       "      <td>NaN</td>\n",
       "    </tr>\n",
       "  </tbody>\n",
       "</table>\n",
       "</div>"
      ],
      "text/plain": [
       "           air_store_id  air_genre_name                 air_area_name  \\\n",
       "0  air_0f0cdeee6c9bf3d7  Italian/French  Hyōgo-ken Kōbe-shi Kumoidōri   \n",
       "1  air_7cc17a324ae5c7dc  Italian/French  Hyōgo-ken Kōbe-shi Kumoidōri   \n",
       "2  air_fee8dcf4d619598e  Italian/French  Hyōgo-ken Kōbe-shi Kumoidōri   \n",
       "3  air_a17f0778617c76e2  Italian/French  Hyōgo-ken Kōbe-shi Kumoidōri   \n",
       "4  air_83db5aff8f50478e  Italian/French  Tōkyō-to Minato-ku Shibakōen   \n",
       "\n",
       "    latitude   longitude          hpg_store_id  \n",
       "0  34.695124  135.197853                   NaN  \n",
       "1  34.695124  135.197853  hpg_9b38b9e13da6da27  \n",
       "2  34.695124  135.197853                   NaN  \n",
       "3  34.695124  135.197853                   NaN  \n",
       "4  35.658068  139.751599                   NaN  "
      ]
     },
     "execution_count": 64,
     "metadata": {},
     "output_type": "execute_result"
    }
   ],
   "source": [
    "stores.head()"
   ]
  },
  {
   "cell_type": "code",
   "execution_count": 66,
   "id": "9dbf898d",
   "metadata": {},
   "outputs": [],
   "source": [
    "stores = pd.merge(stores, hpg_store_info,how='left', on='hpg_store_id', suffixes=['_air', '_hpg'])"
   ]
  },
  {
   "cell_type": "code",
   "execution_count": 67,
   "id": "32623e35",
   "metadata": {
    "scrolled": true
   },
   "outputs": [
    {
     "data": {
      "text/html": [
       "<div>\n",
       "<style scoped>\n",
       "    .dataframe tbody tr th:only-of-type {\n",
       "        vertical-align: middle;\n",
       "    }\n",
       "\n",
       "    .dataframe tbody tr th {\n",
       "        vertical-align: top;\n",
       "    }\n",
       "\n",
       "    .dataframe thead th {\n",
       "        text-align: right;\n",
       "    }\n",
       "</style>\n",
       "<table border=\"1\" class=\"dataframe\">\n",
       "  <thead>\n",
       "    <tr style=\"text-align: right;\">\n",
       "      <th></th>\n",
       "      <th>air_store_id</th>\n",
       "      <th>air_genre_name</th>\n",
       "      <th>air_area_name</th>\n",
       "      <th>latitude_air</th>\n",
       "      <th>longitude_air</th>\n",
       "      <th>hpg_store_id</th>\n",
       "      <th>hpg_genre_name</th>\n",
       "      <th>hpg_area_name</th>\n",
       "      <th>latitude_hpg</th>\n",
       "      <th>longitude_hpg</th>\n",
       "    </tr>\n",
       "  </thead>\n",
       "  <tbody>\n",
       "    <tr>\n",
       "      <th>0</th>\n",
       "      <td>air_0f0cdeee6c9bf3d7</td>\n",
       "      <td>Italian/French</td>\n",
       "      <td>Hyōgo-ken Kōbe-shi Kumoidōri</td>\n",
       "      <td>34.695124</td>\n",
       "      <td>135.197853</td>\n",
       "      <td>NaN</td>\n",
       "      <td>NaN</td>\n",
       "      <td>NaN</td>\n",
       "      <td>NaN</td>\n",
       "      <td>NaN</td>\n",
       "    </tr>\n",
       "    <tr>\n",
       "      <th>1</th>\n",
       "      <td>air_7cc17a324ae5c7dc</td>\n",
       "      <td>Italian/French</td>\n",
       "      <td>Hyōgo-ken Kōbe-shi Kumoidōri</td>\n",
       "      <td>34.695124</td>\n",
       "      <td>135.197853</td>\n",
       "      <td>hpg_9b38b9e13da6da27</td>\n",
       "      <td>NaN</td>\n",
       "      <td>NaN</td>\n",
       "      <td>NaN</td>\n",
       "      <td>NaN</td>\n",
       "    </tr>\n",
       "    <tr>\n",
       "      <th>2</th>\n",
       "      <td>air_fee8dcf4d619598e</td>\n",
       "      <td>Italian/French</td>\n",
       "      <td>Hyōgo-ken Kōbe-shi Kumoidōri</td>\n",
       "      <td>34.695124</td>\n",
       "      <td>135.197853</td>\n",
       "      <td>NaN</td>\n",
       "      <td>NaN</td>\n",
       "      <td>NaN</td>\n",
       "      <td>NaN</td>\n",
       "      <td>NaN</td>\n",
       "    </tr>\n",
       "    <tr>\n",
       "      <th>3</th>\n",
       "      <td>air_a17f0778617c76e2</td>\n",
       "      <td>Italian/French</td>\n",
       "      <td>Hyōgo-ken Kōbe-shi Kumoidōri</td>\n",
       "      <td>34.695124</td>\n",
       "      <td>135.197853</td>\n",
       "      <td>NaN</td>\n",
       "      <td>NaN</td>\n",
       "      <td>NaN</td>\n",
       "      <td>NaN</td>\n",
       "      <td>NaN</td>\n",
       "    </tr>\n",
       "    <tr>\n",
       "      <th>4</th>\n",
       "      <td>air_83db5aff8f50478e</td>\n",
       "      <td>Italian/French</td>\n",
       "      <td>Tōkyō-to Minato-ku Shibakōen</td>\n",
       "      <td>35.658068</td>\n",
       "      <td>139.751599</td>\n",
       "      <td>NaN</td>\n",
       "      <td>NaN</td>\n",
       "      <td>NaN</td>\n",
       "      <td>NaN</td>\n",
       "      <td>NaN</td>\n",
       "    </tr>\n",
       "  </tbody>\n",
       "</table>\n",
       "</div>"
      ],
      "text/plain": [
       "           air_store_id  air_genre_name                 air_area_name  \\\n",
       "0  air_0f0cdeee6c9bf3d7  Italian/French  Hyōgo-ken Kōbe-shi Kumoidōri   \n",
       "1  air_7cc17a324ae5c7dc  Italian/French  Hyōgo-ken Kōbe-shi Kumoidōri   \n",
       "2  air_fee8dcf4d619598e  Italian/French  Hyōgo-ken Kōbe-shi Kumoidōri   \n",
       "3  air_a17f0778617c76e2  Italian/French  Hyōgo-ken Kōbe-shi Kumoidōri   \n",
       "4  air_83db5aff8f50478e  Italian/French  Tōkyō-to Minato-ku Shibakōen   \n",
       "\n",
       "   latitude_air  longitude_air          hpg_store_id hpg_genre_name  \\\n",
       "0     34.695124     135.197853                   NaN            NaN   \n",
       "1     34.695124     135.197853  hpg_9b38b9e13da6da27            NaN   \n",
       "2     34.695124     135.197853                   NaN            NaN   \n",
       "3     34.695124     135.197853                   NaN            NaN   \n",
       "4     35.658068     139.751599                   NaN            NaN   \n",
       "\n",
       "  hpg_area_name  latitude_hpg  longitude_hpg  \n",
       "0           NaN           NaN            NaN  \n",
       "1           NaN           NaN            NaN  \n",
       "2           NaN           NaN            NaN  \n",
       "3           NaN           NaN            NaN  \n",
       "4           NaN           NaN            NaN  "
      ]
     },
     "execution_count": 67,
     "metadata": {},
     "output_type": "execute_result"
    }
   ],
   "source": [
    "stores.head()"
   ]
  },
  {
   "cell_type": "code",
   "execution_count": null,
   "id": "baebaa72",
   "metadata": {},
   "outputs": [],
   "source": []
  }
 ],
 "metadata": {
  "kernelspec": {
   "display_name": "Python 3",
   "language": "python",
   "name": "python3"
  },
  "language_info": {
   "codemirror_mode": {
    "name": "ipython",
    "version": 3
   },
   "file_extension": ".py",
   "mimetype": "text/x-python",
   "name": "python",
   "nbconvert_exporter": "python",
   "pygments_lexer": "ipython3",
   "version": "3.8.5"
  }
 },
 "nbformat": 4,
 "nbformat_minor": 5
}
